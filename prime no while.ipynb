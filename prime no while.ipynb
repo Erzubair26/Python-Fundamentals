{
 "cells": [
  {
   "cell_type": "code",
   "execution_count": 3,
   "id": "4ef9be83",
   "metadata": {},
   "outputs": [
    {
     "name": "stdout",
     "output_type": "stream",
     "text": [
      "53 -11 672\n"
     ]
    }
   ],
   "source": [
    "def SUM(a,b):\n",
    "    c=a+b\n",
    "    d=a-b\n",
    "    e=a*b\n",
    "    return(c,d,e)\n",
    "add,sub,mul=SUM(21,32)\n",
    "print(add,sub,mul)"
   ]
  },
  {
   "cell_type": "code",
   "execution_count": 13,
   "id": "b2c95323",
   "metadata": {},
   "outputs": [
    {
     "name": "stdin",
     "output_type": "stream",
     "text": [
      "enter the no.=  111\n"
     ]
    },
    {
     "name": "stdout",
     "output_type": "stream",
     "text": [
      "no is not prime \n"
     ]
    }
   ],
   "source": [
    "n=int(input(\"enter the no.= \"))\n",
    "i=1\n",
    "count=0\n",
    "while i<=n:\n",
    "    if n%i==0:\n",
    "        count=count+1\n",
    "        i=i+i\n",
    "    else:\n",
    "        i=i+1\n",
    "else:\n",
    "    if count==2:\n",
    "        print(\"no is prime\")\n",
    "    else:\n",
    "        print(\"no is not prime \")"
   ]
  },
  {
   "cell_type": "code",
   "execution_count": 14,
   "id": "96134083",
   "metadata": {},
   "outputs": [
    {
     "name": "stdout",
     "output_type": "stream",
     "text": [
      "Enter a number: 8\n",
      "The number is not prime\n"
     ]
    }
   ],
   "source": [
    "def is_prime(n):\n",
    "    if n <= 1:\n",
    "        return False\n",
    "    for i in range(2, int(n ** 0.5) + 2):  # Adjusted range to be inclusive\n",
    "        if n % i == 0:\n",
    "            return False\n",
    "    return True\n",
    "\n",
    "num = int(input(\"Enter a number: \"))\n",
    "if is_prime(num):\n",
    "    print(\"The number is prime\")\n",
    "else:\n",
    "    print(\"The number is not prime\")\n"
   ]
  },
  {
   "cell_type": "code",
   "execution_count": 17,
   "id": "f3ae625b",
   "metadata": {},
   "outputs": [
    {
     "name": "stdout",
     "output_type": "stream",
     "text": [
      "Enter The Number.= 8\n",
      "not prime\n"
     ]
    }
   ],
   "source": [
    "def Prime(n):\n",
    "    if n<=1:\n",
    "        return False\n",
    "    for i in (2,int(n**0.5)+1):\n",
    "        if n%i==0:\n",
    "            return False\n",
    "    return True\n",
    "num= int(input(\"Enter The Number.= \"))\n",
    "if Prime(num):\n",
    "    print(\"the given no is prime\")\n",
    "else:\n",
    "    print(\"not prime\")"
   ]
  },
  {
   "cell_type": "code",
   "execution_count": 37,
   "id": "919ba250",
   "metadata": {},
   "outputs": [
    {
     "name": "stdout",
     "output_type": "stream",
     "text": [
      "zubair\n"
     ]
    },
    {
     "ename": "TypeError",
     "evalue": "'age' is an invalid keyword argument for print()",
     "output_type": "error",
     "traceback": [
      "\u001b[1;31m---------------------------------------------------------------------------\u001b[0m",
      "\u001b[1;31mTypeError\u001b[0m                                 Traceback (most recent call last)",
      "Input \u001b[1;32mIn [37]\u001b[0m, in \u001b[0;36m<cell line: 4>\u001b[1;34m()\u001b[0m\n\u001b[0;32m      2\u001b[0m     \u001b[38;5;28mprint\u001b[39m(\u001b[38;5;241m*\u001b[39margs)\n\u001b[0;32m      3\u001b[0m     \u001b[38;5;28mprint\u001b[39m(\u001b[38;5;241m*\u001b[39m\u001b[38;5;241m*\u001b[39mkwargs)  \n\u001b[1;32m----> 4\u001b[0m \u001b[43mchild\u001b[49m\u001b[43m(\u001b[49m\u001b[38;5;124;43m\"\u001b[39;49m\u001b[38;5;124;43mzubair\u001b[39;49m\u001b[38;5;124;43m\"\u001b[39;49m\u001b[43m,\u001b[49m\u001b[43m \u001b[49m\u001b[43mage\u001b[49m\u001b[38;5;241;43m=\u001b[39;49m\u001b[38;5;241;43m14\u001b[39;49m\u001b[43m)\u001b[49m\n",
      "Input \u001b[1;32mIn [37]\u001b[0m, in \u001b[0;36mchild\u001b[1;34m(*args, **kwargs)\u001b[0m\n\u001b[0;32m      1\u001b[0m \u001b[38;5;28;01mdef\u001b[39;00m \u001b[38;5;21mchild\u001b[39m(\u001b[38;5;241m*\u001b[39margs, \u001b[38;5;241m*\u001b[39m\u001b[38;5;241m*\u001b[39mkwargs):\n\u001b[0;32m      2\u001b[0m     \u001b[38;5;28mprint\u001b[39m(\u001b[38;5;241m*\u001b[39margs)\n\u001b[1;32m----> 3\u001b[0m     \u001b[38;5;28mprint\u001b[39m(\u001b[38;5;241m*\u001b[39m\u001b[38;5;241m*\u001b[39mkwargs)\n",
      "\u001b[1;31mTypeError\u001b[0m: 'age' is an invalid keyword argument for print()"
     ]
    }
   ],
   "source": [
    "def child(*args, **kwargs):\n",
    "    print(*args)\n",
    "    print(**kwargs)  \n",
    "child(\"zubair\", age=14)\n",
    "\n",
    " "
   ]
  },
  {
   "cell_type": "code",
   "execution_count": 4,
   "id": "e1f09012",
   "metadata": {},
   "outputs": [
    {
     "name": "stdout",
     "output_type": "stream",
     "text": [
      "enter the no= 6\n",
      "no is not prime\n"
     ]
    }
   ],
   "source": [
    "n= int(input(\"enter the no= \"))\n",
    "i=1\n",
    "count=0\n",
    "while i<=n:\n",
    "    if n%i==0:\n",
    "        count=count+1\n",
    "        i=i+1\n",
    "    else:\n",
    "        i=i+1\n",
    "else:\n",
    "    if count==2:\n",
    "        print(\"no is prime\")\n",
    "    else:\n",
    "        print(\"no is not prime\")"
   ]
  },
  {
   "cell_type": "code",
   "execution_count": 5,
   "id": "2a7f65e9",
   "metadata": {},
   "outputs": [
    {
     "name": "stdout",
     "output_type": "stream",
     "text": [
      "enter the no =5\n",
      "prime\n"
     ]
    }
   ],
   "source": [
    "def is_prime(n):\n",
    "    if n<=1:\n",
    "        return False\n",
    "    for i in range(2,int(n**0.5)+1):\n",
    "        if n%i==0:\n",
    "            return False\n",
    "    return True\n",
    "num=int(input(\"enter the no =\"))\n",
    "if is_prime(num):\n",
    "    print(\"prime\")\n",
    "else:\n",
    "    print(\"not prime\")"
   ]
  },
  {
   "cell_type": "code",
   "execution_count": 7,
   "id": "8f385dc0",
   "metadata": {},
   "outputs": [],
   "source": [
    "def Sum(x,y):\n",
    "    a=x+y\n",
    "    b=x-y\n",
    "    c=x*y\n",
    "    return(a,b,c)\n",
    "Add,Sub,Mul=Sum(45,58)\n",
    "print(\"the sum of these two no. is=\",Add,\"\")"
   ]
  },
  {
   "cell_type": "code",
   "execution_count": null,
   "id": "be2b6504",
   "metadata": {},
   "outputs": [],
   "source": []
  }
 ],
 "metadata": {
  "kernelspec": {
   "display_name": "Python 3 (ipykernel)",
   "language": "python",
   "name": "python3"
  },
  "language_info": {
   "codemirror_mode": {
    "name": "ipython",
    "version": 3
   },
   "file_extension": ".py",
   "mimetype": "text/x-python",
   "name": "python",
   "nbconvert_exporter": "python",
   "pygments_lexer": "ipython3",
   "version": "3.12.4"
  }
 },
 "nbformat": 4,
 "nbformat_minor": 5
}
