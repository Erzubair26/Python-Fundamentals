{
 "cells": [
  {
   "cell_type": "code",
   "execution_count": 7,
   "id": "ab3b5b64-4322-4927-8a44-f105f6bbf296",
   "metadata": {},
   "outputs": [
    {
     "data": {
      "text/plain": [
       "[0, 1, 2, 5, 6, 8, 9]"
      ]
     },
     "execution_count": 7,
     "metadata": {},
     "output_type": "execute_result"
    }
   ],
   "source": [
    "def bubble_sort(A):\n",
    "    n=len(A)\n",
    "    for k in range(0, n-1):\n",
    "        for ptr in range(n-1-k):\n",
    "            if A[ptr]> A[ptr+1]:\n",
    "                temp=A[ptr]\n",
    "                A[ptr]=A[ptr+1]\n",
    "                A[ptr+1]=temp\n",
    "    return A\n",
    "x=[6,5,2,9,0,1,8]\n",
    "bubble_sort(x)\n"
   ]
  },
  {
   "cell_type": "code",
   "execution_count": null,
   "id": "40840901-6bdb-4aa5-b497-e40e39955b92",
   "metadata": {},
   "outputs": [],
   "source": []
  }
 ],
 "metadata": {
  "kernelspec": {
   "display_name": "Python 3 (ipykernel)",
   "language": "python",
   "name": "python3"
  },
  "language_info": {
   "codemirror_mode": {
    "name": "ipython",
    "version": 3
   },
   "file_extension": ".py",
   "mimetype": "text/x-python",
   "name": "python",
   "nbconvert_exporter": "python",
   "pygments_lexer": "ipython3",
   "version": "3.12.4"
  }
 },
 "nbformat": 4,
 "nbformat_minor": 5
}
