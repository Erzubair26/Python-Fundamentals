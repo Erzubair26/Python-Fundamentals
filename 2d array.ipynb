{
 "cells": [
  {
   "cell_type": "code",
   "execution_count": 7,
   "id": "694c752b-43f0-4d00-9cd2-d842dc70250e",
   "metadata": {},
   "outputs": [],
   "source": [
    "import array as arr\n",
    "Two_Dim=[arr.array(\"i\",[2,4,3,1]),arr.array(\"i\",[5,6,3,5]),arr.array(\"i\",[2,9,0,5])]"
   ]
  },
  {
   "cell_type": "code",
   "execution_count": 9,
   "id": "73d2d57a-9430-4672-b86b-2a94db49bcb2",
   "metadata": {},
   "outputs": [
    {
     "data": {
      "text/plain": [
       "[array('i', [2, 4, 3, 1]), array('i', [5, 6, 3, 5]), array('i', [2, 9, 0, 5])]"
      ]
     },
     "execution_count": 9,
     "metadata": {},
     "output_type": "execute_result"
    }
   ],
   "source": [
    "Two_Dim"
   ]
  },
  {
   "cell_type": "code",
   "execution_count": 17,
   "id": "c9bb370e-6e0e-4ef4-9b23-25ea18d19515",
   "metadata": {},
   "outputs": [
    {
     "name": "stdout",
     "output_type": "stream",
     "text": [
      "2431\n",
      "5635\n",
      "2905\n"
     ]
    }
   ],
   "source": [
    "for row in Two_Dim:\n",
    "    for element in row:\n",
    "        print(element,end=\"\")\n",
    "    print()"
   ]
  },
  {
   "cell_type": "code",
   "execution_count": 25,
   "id": "04f277a8-5669-4842-9424-636217262b45",
   "metadata": {},
   "outputs": [
    {
     "name": "stdout",
     "output_type": "stream",
     "text": [
      "2431\n",
      "56315\n",
      "2905\n"
     ]
    }
   ],
   "source": [
    "import array as arr\n",
    "Two_Dim=[arr.array(\"i\",[2,4,3,1]),arr.array(\"i\",[5,6,3,5]),arr.array(\"i\",[2,9,0,5])]\n",
    "row=1\n",
    "col=3\n",
    "new_val=15\n",
    "Two_Dim[row][col]=new_val\n",
    "for i in Two_Dim:\n",
    "    for j in i:\n",
    "        print(j,end=\"\")\n",
    "    print()"
   ]
  },
  {
   "cell_type": "code",
   "execution_count": 27,
   "id": "f9153c4a-3f4a-4807-a168-6038023ff56e",
   "metadata": {},
   "outputs": [
    {
     "name": "stdout",
     "output_type": "stream",
     "text": [
      "2431\n",
      "563\n",
      "2905\n"
     ]
    }
   ],
   "source": [
    "import array as arr\n",
    "Two_Dim=[arr.array(\"i\",[2,4,3,1]),arr.array(\"i\",[5,6,3,5]),arr.array(\"i\",[2,9,0,5])]\n",
    "row=1\n",
    "col=3\n",
    "del Two_Dim[row][col]\n",
    "for i in Two_Dim:\n",
    "    for j in i:\n",
    "        print(j,end=\"\")\n",
    "    print()"
   ]
  },
  {
   "cell_type": "code",
   "execution_count": 29,
   "id": "5d0b548c-6ddb-4e80-93b4-fce352e80593",
   "metadata": {},
   "outputs": [
    {
     "name": "stdout",
     "output_type": "stream",
     "text": [
      "2431\n",
      "2905\n"
     ]
    }
   ],
   "source": [
    "import array as arr\n",
    "Two_Dim=[arr.array(\"i\",[2,4,3,1]),arr.array(\"i\",[5,6,3,5]),arr.array(\"i\",[2,9,0,5])]\n",
    "del Two_Dim[1]\n",
    "for i in Two_Dim:\n",
    "    for j in i:\n",
    "        print(j,end=\"\")\n",
    "    print()"
   ]
  },
  {
   "cell_type": "code",
   "execution_count": 37,
   "id": "cd82509e-2000-4a17-a727-ad47206c87aa",
   "metadata": {},
   "outputs": [
    {
     "name": "stdout",
     "output_type": "stream",
     "text": [
      "2 3 1 \n",
      "2 0 5 \n"
     ]
    }
   ],
   "source": [
    "# Deleting the 2nd column (index 1)\n",
    "col = 1\n",
    "for row in Two_Dim:\n",
    "    del row[col]\n",
    "\n",
    "# Printing the updated 2D array with column removed\n",
    "for r in Two_Dim:\n",
    "    for element in r:\n",
    "        print(element, end=\" \")\n",
    "    print()\n"
   ]
  },
  {
   "cell_type": "code",
   "execution_count": 41,
   "id": "6a2029ee-17e4-446b-a653-fd98b49ada27",
   "metadata": {},
   "outputs": [
    {
     "ename": "TypeError",
     "evalue": "list indices must be integers or slices, not tuple",
     "output_type": "error",
     "traceback": [
      "\u001b[1;31m---------------------------------------------------------------------------\u001b[0m",
      "\u001b[1;31mTypeError\u001b[0m                                 Traceback (most recent call last)",
      "Cell \u001b[1;32mIn[41], line 1\u001b[0m\n\u001b[1;32m----> 1\u001b[0m Two_Dim[:\u001b[38;5;241m2\u001b[39m,\u001b[38;5;241m1\u001b[39m]\n",
      "\u001b[1;31mTypeError\u001b[0m: list indices must be integers or slices, not tuple"
     ]
    }
   ],
   "source": [
    "Two_Dim[:2,1]"
   ]
  },
  {
   "cell_type": "code",
   "execution_count": null,
   "id": "38349397-dacb-4b8f-9ea4-e333d9394393",
   "metadata": {},
   "outputs": [],
   "source": []
  }
 ],
 "metadata": {
  "kernelspec": {
   "display_name": "Python 3 (ipykernel)",
   "language": "python",
   "name": "python3"
  },
  "language_info": {
   "codemirror_mode": {
    "name": "ipython",
    "version": 3
   },
   "file_extension": ".py",
   "mimetype": "text/x-python",
   "name": "python",
   "nbconvert_exporter": "python",
   "pygments_lexer": "ipython3",
   "version": "3.12.4"
  }
 },
 "nbformat": 4,
 "nbformat_minor": 5
}
