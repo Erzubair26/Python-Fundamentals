{
 "cells": [
  {
   "cell_type": "raw",
   "id": "6a85b9fd-dd86-4400-a8c2-55f04439e6b5",
   "metadata": {},
   "source": [
    "hsdnfkjsgflkjeargfkjhaergkjhaergkjaergkjaerkjaregjkhraefjaerglker\n",
    "sdkgjkaerglrea\n",
    "]jaerlkger;lrkg]kejrkrgtkaerkg\n",
    "dmflkgmlgaer;glrlg"
   ]
  },
  {
   "cell_type": "code",
   "execution_count": 5,
   "id": "51b39b44-aab6-4ec8-ab33-41ae39b0b533",
   "metadata": {},
   "outputs": [
    {
     "name": "stdout",
     "output_type": "stream",
     "text": [
      " Before reversing an elements of an array : \n",
      "1\n",
      "2\n",
      "3\n",
      "4\n",
      "5\n",
      "6\n",
      "7\n",
      "9\n",
      "0\n",
      "\n",
      "After reversing an elements of an array : \n",
      "0\n",
      "9\n",
      "7\n",
      "6\n",
      "5\n",
      "4\n",
      "3\n",
      "2\n",
      "1\n",
      "\n"
     ]
    }
   ],
   "source": [
    "import array as arr\n",
    "a=arr.array(\"i\",[1,2,3,4,5,6,7,9,0])\n",
    "print(\" Before reversing an elements of an array : \\n\", end=\"\")\n",
    "for i in a:\n",
    "    print(i)\n",
    "print()\n",
    "a.reverse()\n",
    "print(\"After reversing an elements of an array : \\n\", end=\"\")\n",
    "for i in a:\n",
    "    print(i)\n",
    "print()"
   ]
  },
  {
   "cell_type": "code",
   "execution_count": 13,
   "id": "f844c9db-e479-4da1-86f3-b2cdb4b18af6",
   "metadata": {},
   "outputs": [
    {
     "name": "stdout",
     "output_type": "stream",
     "text": [
      " Before reversing an elements of an array : \n",
      "1\n",
      "2\n",
      "3\n",
      "4\n",
      "5\n",
      "6\n",
      "7\n",
      "9\n",
      "0\n",
      "\n",
      "After reversing an elements of an array : \n"
     ]
    },
    {
     "data": {
      "text/plain": [
       "array('i', [0, 9, 7, 6, 5, 4, 3, 2, 1])"
      ]
     },
     "execution_count": 13,
     "metadata": {},
     "output_type": "execute_result"
    }
   ],
   "source": [
    "import array as arr\n",
    "a=arr.array(\"i\",[1,2,3,4,5,6,7,9,0])\n",
    "print(\" Before reversing an elements of an array : \\n\", end=\"\")\n",
    "for i in a:\n",
    "    print(i)\n",
    "print()\n",
    "print(\"After reversing an elements of an array : \\n\", end=\"\")\n",
    "a[::-1]\n"
   ]
  },
  {
   "cell_type": "code",
   "execution_count": 28,
   "id": "df8112d6-b9cd-4e03-a629-f5cc0fd75d9b",
   "metadata": {},
   "outputs": [
    {
     "name": "stdout",
     "output_type": "stream",
     "text": [
      " Before sorting an elements of an array : \n",
      "9\n",
      "1\n",
      "12\n",
      "5\n",
      "41\n",
      "15\n",
      "6\n",
      "75\n",
      "19\n",
      "50\n",
      "\n",
      "Ater sorting an element of an array: \n",
      "1\n",
      "5\n",
      "6\n",
      "9\n",
      "12\n",
      "15\n",
      "19\n",
      "41\n",
      "50\n",
      "75\n"
     ]
    }
   ],
   "source": [
    "import array as arr\n",
    "a=arr.array(\"i\",[9,1,12,5,41,15,6,75,19,50])\n",
    "print(\" Before sorting an elements of an array : \\n\", end=\"\")\n",
    "for i in a:\n",
    "    print(i)\n",
    "print()\n",
    "x=arr.array(\"i\",sorted(a))\n",
    "print(\"Ater sorting an element of an array: \\n\", end=\"\")\n",
    "for i in x:\n",
    "    print(i)"
   ]
  },
  {
   "cell_type": "code",
   "execution_count": 32,
   "id": "6421ac87-2b9c-43a8-949a-43afc6f1086a",
   "metadata": {},
   "outputs": [],
   "source": [
    "import array as arr"
   ]
  },
  {
   "cell_type": "code",
   "execution_count": 38,
   "id": "999a9443-2bba-4791-b9ac-c59cdfbd8faa",
   "metadata": {},
   "outputs": [],
   "source": [
    "Two_Dim=[arr.array(\"i\",[3,9,5,1,9]),arr.array(\"i\",[13,29,15,10,19]),arr.array(\"i\",[31,90,55,21,59])]"
   ]
  },
  {
   "cell_type": "code",
   "execution_count": 40,
   "id": "0464b46b-dc5f-403d-88df-b09e0638d728",
   "metadata": {},
   "outputs": [
    {
     "data": {
      "text/plain": [
       "[array('i', [3, 9, 5, 1, 9]),\n",
       " array('i', [13, 29, 15, 10, 19]),\n",
       " array('i', [31, 90, 55, 21, 59])]"
      ]
     },
     "execution_count": 40,
     "metadata": {},
     "output_type": "execute_result"
    }
   ],
   "source": [
    "Two_Dim"
   ]
  },
  {
   "cell_type": "code",
   "execution_count": 85,
   "id": "7e4e3058-2a34-4e4a-bd91-bdb71b3cdddf",
   "metadata": {},
   "outputs": [
    {
     "name": "stdout",
     "output_type": "stream",
     "text": [
      "Before accessing the elements of two dimentional array are as under: \n",
      " \n",
      "39519\n",
      "12638\n",
      "79126\n",
      "After Accessing the elements of two dimentional arrar as:\n",
      "3\n"
     ]
    }
   ],
   "source": [
    "import array as arr\n",
    "Two_Dim=[arr.array(\"i\",[3,9,5,1,9]),arr.array(\"i\",[1,2,6,3,8]),arr.array(\"i\",[7,9,1,2,6])]\n",
    "print(\"Before accessing the elements of two dimentional array are as under: \\n \")\n",
    "for row in Two_Dim:\n",
    "    for column in row:\n",
    "        print(column, end=\"\")\n",
    "    print()\n",
    "\n",
    "row=1\n",
    "col=3\n",
    "print(\"After Accessing the elements of two dimentional arrar as:\")\n",
    "print(Two_Dim[row][col])\n",
    "\n"
   ]
  },
  {
   "cell_type": "code",
   "execution_count": null,
   "id": "81e9456f-7922-4cd0-9512-d3138330e415",
   "metadata": {},
   "outputs": [],
   "source": []
  },
  {
   "cell_type": "code",
   "execution_count": null,
   "id": "589bb596-9d8a-45c0-bf02-55a07d889c63",
   "metadata": {},
   "outputs": [],
   "source": []
  }
 ],
 "metadata": {
  "kernelspec": {
   "display_name": "Python 3 (ipykernel)",
   "language": "python",
   "name": "python3"
  },
  "language_info": {
   "codemirror_mode": {
    "name": "ipython",
    "version": 3
   },
   "file_extension": ".py",
   "mimetype": "text/x-python",
   "name": "python",
   "nbconvert_exporter": "python",
   "pygments_lexer": "ipython3",
   "version": "3.12.4"
  }
 },
 "nbformat": 4,
 "nbformat_minor": 5
}
