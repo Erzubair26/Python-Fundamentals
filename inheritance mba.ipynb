{
 "cells": [
  {
   "cell_type": "code",
   "execution_count": 4,
   "id": "225ef907",
   "metadata": {},
   "outputs": [
    {
     "name": "stdout",
     "output_type": "stream",
     "text": [
      "feature 1 is working\n",
      "feature 2 is working\n"
     ]
    }
   ],
   "source": [
    "class A:\n",
    "    def feature1(self):\n",
    "        print(\"feature 1 is working\")\n",
    "    def feature2(self):\n",
    "        print(\"feature 2 is working\")\n",
    "        \n",
    "class B:\n",
    "    def feature3(self):\n",
    "        print(\"feature 3 is working\")\n",
    "    def feature4(self):\n",
    "        print(\"feature 4 is working\")\n",
    "class C(A,B ):\n",
    "    def feature5(self):\n",
    "        print(\"feature 5 is working\")\n",
    "    def feature6(self):\n",
    "        print(\"feature 6 is working\") \n",
    "\n",
    "a3 = C()\n",
    "\n",
    "a3.feature1()\n",
    "a3.feature2()"
   ]
  },
  {
   "cell_type": "code",
   "execution_count": null,
   "id": "7b44a492",
   "metadata": {},
   "outputs": [],
   "source": [
    "class A:\n",
    "    def feature1(self):\n",
    "        print(\"welcome all feature 1 is working\")\n",
    "    def feature2(self):\n",
    "        print(\"welcome all feature 2 is working\")  \n",
    "        \n",
    "class B(A):\n",
    "    def feature3(self):\n",
    "        print(\"welcome all feature 3 is working\")\n",
    "    def feature4(self):\n",
    "        print(\"welcome all feature 4 is working\")  \n",
    "a=A()\n",
    "b=B()\n",
    "b.feature3()\n",
    "a.feature1()\n",
    "a.feature2()"
   ]
  },
  {
   "cell_type": "code",
   "execution_count": null,
   "id": "8e892634",
   "metadata": {},
   "outputs": [],
   "source": [
    "class A:\n",
    "    def feature1(self):\n",
    "        print(\"feature 1 is working\")\n",
    "    def feature2(self):\n",
    "        print(\"feature 2 is working\")\n",
    "        \n",
    "class B(A):\n",
    "    def feature3(self):\n",
    "        print(\"feature 3 is working\")\n",
    "    def feature3(self):\n",
    "        print(\"feature 4 is working\")\n",
    "class C(B):\n",
    "    def feature5(self):\n",
    "         print(\"feature 4 is working\")\n",
    "a1=A()\n",
    "\n",
    "a1.feature1()\n",
    "a1.feature2()\n",
    "a2=B()\n",
    "a2.feature1()\n",
    "a3=C()\n",
    "a3.feature1()"
   ]
  },
  {
   "cell_type": "code",
   "execution_count": null,
   "id": "9bcb4274",
   "metadata": {},
   "outputs": [],
   "source": []
  },
  {
   "cell_type": "code",
   "execution_count": null,
   "id": "fb1ee6a0",
   "metadata": {},
   "outputs": [],
   "source": []
  },
  {
   "cell_type": "code",
   "execution_count": null,
   "id": "8d6c248a",
   "metadata": {},
   "outputs": [],
   "source": []
  },
  {
   "cell_type": "code",
   "execution_count": null,
   "id": "df4fdbbb",
   "metadata": {},
   "outputs": [],
   "source": []
  },
  {
   "cell_type": "code",
   "execution_count": null,
   "id": "f5a71803",
   "metadata": {},
   "outputs": [],
   "source": []
  },
  {
   "cell_type": "code",
   "execution_count": null,
   "id": "ced9e3a3",
   "metadata": {},
   "outputs": [],
   "source": []
  },
  {
   "cell_type": "raw",
   "id": "a43c7939",
   "metadata": {},
   "source": [
    "Creating a Parent Class\n",
    "A parent class is a class whose properties are inherited by the child class. Let’s create a parent class called Person which has a Display method to display the person’s information."
   ]
  },
  {
   "cell_type": "code",
   "execution_count": null,
   "id": "e784499c",
   "metadata": {},
   "outputs": [],
   "source": [
    "class person:\n",
    "    def __init__ (self, name, surname):\n",
    "        self. name=name\n",
    "        self.surname=surname\n",
    "    def display(self):\n",
    "        print(self.name, self.surname)\n",
    "emp=person(\"Zubair\",\"Fayaz\")\n",
    "emp.display()"
   ]
  },
  {
   "cell_type": "raw",
   "id": "54921bb0",
   "metadata": {},
   "source": [
    "Creating a Child Class\n",
    "A child class is a class that drives the properties from its parent class. Here Emp is another class that is going to inherit the properties of the Person class(base class)."
   ]
  },
  {
   "cell_type": "code",
   "execution_count": 2,
   "id": "c560957e",
   "metadata": {},
   "outputs": [
    {
     "ename": "NameError",
     "evalue": "name 'person' is not defined",
     "output_type": "error",
     "traceback": [
      "\u001b[1;31m---------------------------------------------------------------------------\u001b[0m",
      "\u001b[1;31mNameError\u001b[0m                                 Traceback (most recent call last)",
      "Input \u001b[1;32mIn [2]\u001b[0m, in \u001b[0;36m<cell line: 1>\u001b[1;34m()\u001b[0m\n\u001b[1;32m----> 1\u001b[0m \u001b[38;5;28;01mclass\u001b[39;00m \u001b[38;5;21;01memp\u001b[39;00m(\u001b[43mperson\u001b[49m):\n\u001b[0;32m      2\u001b[0m     \u001b[38;5;28;01mdef\u001b[39;00m \u001b[38;5;21mAbc\u001b[39m(\u001b[38;5;28mself\u001b[39m):\n\u001b[0;32m      3\u001b[0m         \u001b[38;5;28mprint\u001b[39m(\u001b[38;5;124m\"\u001b[39m\u001b[38;5;124memp class called\u001b[39m\u001b[38;5;124m\"\u001b[39m)\n",
      "\u001b[1;31mNameError\u001b[0m: name 'person' is not defined"
     ]
    }
   ],
   "source": [
    "class emp(person):\n",
    "    def Abc(self):\n",
    "        print(\"emp class called\")\n",
    "Emp_details=emp(\"suhail\",\"Fayaz\")\n",
    "#calling parent class function\n",
    "Emp_details.display()\n",
    "#calling child class function\n",
    "Emp_details.Abc()"
   ]
  },
  {
   "cell_type": "raw",
   "id": "5350fdd6",
   "metadata": {},
   "source": [
    "Let us see an example of simple Python inheritance in which a child class is inheriting the properties of its parent class. In this example, ‘Person’ is the parent class, and ‘Employee’ is its child class."
   ]
  },
  {
   "cell_type": "code",
   "execution_count": null,
   "id": "4b4bed6b",
   "metadata": {},
   "outputs": [],
   "source": [
    "class Person(object):\n",
    "    # Constructor\n",
    "    def __init__(self, name):\n",
    "        self.name = name\n",
    " \n",
    "    # To get name\n",
    "    def getName(self):\n",
    "        return self.name\n",
    " \n",
    "    # To check if this person is an employee\n",
    "    def isEmployee(self):\n",
    "        return False\n",
    " \n",
    " \n",
    "# Inherited or Subclass (Note Person in bracket)\n",
    "class Employee(Person):\n",
    " \n",
    "    # Here we return true\n",
    "    def isEmployee(self):\n",
    "        return True\n",
    " \n",
    " \n",
    "# Driver code\n",
    "emp = Person(\"Zubair\")  # An Object of Person\n",
    "print(emp.getName(), emp.isEmployee())\n",
    " \n",
    "emp = Employee(\"Fayaz\")  # An Object of Employee\n",
    "print(emp.getName(), emp.isEmployee())"
   ]
  },
  {
   "cell_type": "code",
   "execution_count": null,
   "id": "6f8d011d",
   "metadata": {},
   "outputs": [],
   "source": [
    "class A:\n",
    "    def feature1(self):\n",
    "        print(\"feature 1 is working\")\n",
    "    def feature2(self):\n",
    "        print(\"feature 2 is working\")\n",
    "        \n",
    "class B(A):\n",
    "    def feature3(self):\n",
    "        print(\"feature 3 is working\")\n",
    "    def feature3(self):\n",
    "        print(\"feature 4 is working\")\n",
    "class C(A):\n",
    "    def feature5(self):\n",
    "        print(\"feature 5 is working\")\n",
    "    def feature6(self):\n",
    "        print(\"feature 6 is working\")\n",
    "a1=A()\n",
    "a2=B()\n",
    "a3=C()\n",
    "\n",
    "a3.feature1()\n",
    "a3.feature6()\n"
   ]
  },
  {
   "cell_type": "code",
   "execution_count": null,
   "id": "941eae5b",
   "metadata": {},
   "outputs": [],
   "source": []
  }
 ],
 "metadata": {
  "kernelspec": {
   "display_name": "Python 3 (ipykernel)",
   "language": "python",
   "name": "python3"
  },
  "language_info": {
   "codemirror_mode": {
    "name": "ipython",
    "version": 3
   },
   "file_extension": ".py",
   "mimetype": "text/x-python",
   "name": "python",
   "nbconvert_exporter": "python",
   "pygments_lexer": "ipython3",
   "version": "3.9.12"
  }
 },
 "nbformat": 4,
 "nbformat_minor": 5
}
