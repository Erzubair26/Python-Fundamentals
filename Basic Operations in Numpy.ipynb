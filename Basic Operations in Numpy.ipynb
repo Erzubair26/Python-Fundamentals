{
 "cells": [
  {
   "cell_type": "raw",
   "id": "23b7aa78",
   "metadata": {},
   "source": [
    "Copy vs. View\n",
    "Copy creates a completely new and independent array.\n",
    "Modifications to the copied array do not affect the original array.\n",
    "It allocates new memory for the copied array's data."
   ]
  },
  {
   "cell_type": "code",
   "execution_count": 4,
   "id": "b0b45fc1",
   "metadata": {},
   "outputs": [
    {
     "name": "stdout",
     "output_type": "stream",
     "text": [
      "origanal arr=  [1 2 3 4 5]\n",
      "copy array =  [10  2  3  4  5]\n"
     ]
    }
   ],
   "source": [
    "import numpy as np\n",
    "\n",
    "arr = np.array([1, 2, 3, 4, 5])\n",
    "\n",
    "# Creating a copy\n",
    "arr_copy = arr.copy()\n",
    "\n",
    "# Modifying the copy\n",
    "arr_copy[0] = 10\n",
    "\n",
    "print(\"origanal arr= \",arr)        \n",
    "print(\"copy array = \",arr_copy)   \n"
   ]
  },
  {
   "cell_type": "raw",
   "id": "f3084dd6",
   "metadata": {},
   "source": [
    "View\n",
    "View creates a new array object that refers to the same data as the original array.\n",
    "Modifications made to the view affect the original array.\n",
    "No new memory is allocated; both the original and the view share the same data."
   ]
  },
  {
   "cell_type": "code",
   "execution_count": 4,
   "id": "4d439069",
   "metadata": {},
   "outputs": [
    {
     "name": "stdout",
     "output_type": "stream",
     "text": [
      "[10  2  3  4  5]\n",
      "[10  2  3  4  5]\n"
     ]
    }
   ],
   "source": [
    "import numpy as np\n",
    "\n",
    "arr = np.array([1, 2, 3, 4, 5])\n",
    "\n",
    "# Creating a view\n",
    "arr_view = arr.view()\n",
    "\n",
    "# Modifying the view\n",
    "arr_view[0] = 10\n",
    "\n",
    "print(arr)        # Output: [10  2  3  4  5]\n",
    "print(arr_view)   # Output: [10  2  3  4  5]\n"
   ]
  },
  {
   "cell_type": "raw",
   "id": "c9cad8d1",
   "metadata": {},
   "source": [
    "Copy: Creates a new array with its own data.\n",
    "View: Creates a new array that refers to the same data as the original array."
   ]
  },
  {
   "cell_type": "raw",
   "id": "c1da4775",
   "metadata": {},
   "source": [
    "Array Iterating\n",
    "Description: Iterating through NumPy arrays involves accessing each element within the array."
   ]
  },
  {
   "cell_type": "code",
   "execution_count": 7,
   "id": "71ed4386",
   "metadata": {},
   "outputs": [
    {
     "name": "stdout",
     "output_type": "stream",
     "text": [
      "1\n",
      "2\n",
      "3\n",
      "4\n",
      "5\n",
      "6\n"
     ]
    }
   ],
   "source": [
    "import numpy as np\n",
    "arr = np.array([[1, 2, 3], [4, 5, 6]])\n",
    "\n",
    "for i in np.nditer(arr):\n",
    "    print(i)\n",
    "##The np.nditer() function allows you to traverse the array in various orders, control iteration behavior, and perform operations while iterating through the elements. \n"
   ]
  },
  {
   "cell_type": "code",
   "execution_count": 9,
   "id": "24d9f7c6",
   "metadata": {},
   "outputs": [
    {
     "data": {
      "text/plain": [
       "array([0, 1, 2, 3, 4, 5])"
      ]
     },
     "execution_count": 9,
     "metadata": {},
     "output_type": "execute_result"
    }
   ],
   "source": [
    "arr=np.arange(0,6)\n",
    "arr"
   ]
  },
  {
   "cell_type": "code",
   "execution_count": 10,
   "id": "3d4849c4",
   "metadata": {},
   "outputs": [
    {
     "name": "stdout",
     "output_type": "stream",
     "text": [
      "0\n",
      "1\n",
      "2\n",
      "3\n",
      "4\n",
      "5\n"
     ]
    }
   ],
   "source": [
    "for i in np.nditer(arr):\n",
    "    print(i)"
   ]
  },
  {
   "cell_type": "raw",
   "id": "f65526be",
   "metadata": {},
   "source": [
    "Joining Arrays\n",
    "Description: Concatenating or joining arrays to create a larger array."
   ]
  },
  {
   "cell_type": "code",
   "execution_count": 11,
   "id": "6a77c919",
   "metadata": {},
   "outputs": [
    {
     "name": "stdout",
     "output_type": "stream",
     "text": [
      "[1 2 3 4 5 6]\n"
     ]
    }
   ],
   "source": [
    "import numpy as np\n",
    "\n",
    "arr1 = np.array([1, 2, 3])\n",
    "arr2 = np.array([4, 5, 6])\n",
    "\n",
    "Array = np.concatenate((arr1, arr2))\n",
    "print(Array) "
   ]
  },
  {
   "cell_type": "code",
   "execution_count": 14,
   "id": "8a49c247",
   "metadata": {},
   "outputs": [
    {
     "name": "stdout",
     "output_type": "stream",
     "text": [
      "[[1 2]\n",
      " [3 4]\n",
      " [5 6]]\n"
     ]
    }
   ],
   "source": [
    "Array = np.concatenate((arr1, arr2)).reshape(3,2)\n",
    "print(Array)"
   ]
  },
  {
   "cell_type": "raw",
   "id": "5d533b62",
   "metadata": {},
   "source": [
    "#Splitting Arrays\n",
    "Description: Dividing an array into smaller arrays."
   ]
  },
  {
   "cell_type": "code",
   "execution_count": 5,
   "id": "9dfd8649",
   "metadata": {},
   "outputs": [
    {
     "name": "stdout",
     "output_type": "stream",
     "text": [
      "[array([1]), array([2]), array([3]), array([4]), array([5]), array([6]), array([], dtype=int32), array([], dtype=int32)]\n"
     ]
    }
   ],
   "source": [
    "import numpy as np\n",
    "\n",
    "arr = np.array([1, 2, 3, 4, 5, 6])\n",
    "\n",
    "# Splitting the array\n",
    "split_arr = np.array_split(arr, 8)\n",
    "print(split_arr)\n"
   ]
  },
  {
   "cell_type": "raw",
   "id": "0ad00f32",
   "metadata": {},
   "source": [
    "Searching, Sorting, and Filtering\n",
    "Description: Operations related to finding elements, sorting arrays, and filtering elements based on certain conditions."
   ]
  },
  {
   "cell_type": "code",
   "execution_count": 18,
   "id": "0ddff4bb",
   "metadata": {},
   "outputs": [
    {
     "name": "stdout",
     "output_type": "stream",
     "text": [
      "(array([0], dtype=int64),)\n"
     ]
    }
   ],
   "source": [
    "import numpy as np\n",
    "\n",
    "arr = np.array([3, 2, 1, 5, 4])\n",
    "\n",
    "# Searching for an element\n",
    "print(np.where(arr == 3))  \n",
    "\n"
   ]
  },
  {
   "cell_type": "code",
   "execution_count": 19,
   "id": "37efb308",
   "metadata": {},
   "outputs": [
    {
     "name": "stdout",
     "output_type": "stream",
     "text": [
      "[1 2 3 4 5]\n"
     ]
    }
   ],
   "source": [
    "# Sorting the array\n",
    "sorted_arr = np.sort(arr)\n",
    "print(sorted_arr)  \n",
    "\n"
   ]
  },
  {
   "cell_type": "code",
   "execution_count": 20,
   "id": "2195046e",
   "metadata": {},
   "outputs": [
    {
     "name": "stdout",
     "output_type": "stream",
     "text": [
      "[3 5 4]\n"
     ]
    }
   ],
   "source": [
    "# Filtering elements\n",
    "filtered_arr = arr[arr > 2]\n",
    "print(filtered_arr)  \n"
   ]
  },
  {
   "cell_type": "code",
   "execution_count": 21,
   "id": "4a6d34e0",
   "metadata": {},
   "outputs": [],
   "source": []
  },
  {
   "cell_type": "code",
   "execution_count": null,
   "id": "fd9b8df8",
   "metadata": {},
   "outputs": [],
   "source": []
  },
  {
   "cell_type": "code",
   "execution_count": null,
   "id": "e87f787a",
   "metadata": {},
   "outputs": [],
   "source": []
  },
  {
   "cell_type": "code",
   "execution_count": null,
   "id": "9fa1c131",
   "metadata": {},
   "outputs": [],
   "source": []
  }
 ],
 "metadata": {
  "kernelspec": {
   "display_name": "Python 3 (ipykernel)",
   "language": "python",
   "name": "python3"
  },
  "language_info": {
   "codemirror_mode": {
    "name": "ipython",
    "version": 3
   },
   "file_extension": ".py",
   "mimetype": "text/x-python",
   "name": "python",
   "nbconvert_exporter": "python",
   "pygments_lexer": "ipython3",
   "version": "3.9.12"
  }
 },
 "nbformat": 4,
 "nbformat_minor": 5
}
