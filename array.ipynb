{
 "cells": [
  {
   "cell_type": "code",
   "execution_count": 1,
   "id": "6d0443ba-dddd-4227-91ff-e5610eeef7ef",
   "metadata": {},
   "outputs": [],
   "source": [
    "import array as arr"
   ]
  },
  {
   "cell_type": "code",
   "execution_count": 3,
   "id": "ee68db51-7148-4466-89ff-7c1f65facf2e",
   "metadata": {},
   "outputs": [],
   "source": [
    "x=arr.array(\"i\",[1,2,3,4,5,6,7])"
   ]
  },
  {
   "cell_type": "code",
   "execution_count": 5,
   "id": "c093863c-2ac4-4395-8de2-8c9509030630",
   "metadata": {},
   "outputs": [
    {
     "name": "stdout",
     "output_type": "stream",
     "text": [
      "array('i', [1, 2, 3, 4, 5, 6, 7])\n"
     ]
    }
   ],
   "source": [
    "print(x)"
   ]
  },
  {
   "cell_type": "code",
   "execution_count": 7,
   "id": "f029f9b3-35b9-4419-a49c-c2c825299f4e",
   "metadata": {},
   "outputs": [
    {
     "name": "stdout",
     "output_type": "stream",
     "text": [
      "This is Integer Type Array: \n",
      " array('i', [1, 2, 3, 4, 5, 6, 7])\n",
      "this is float type array: \n",
      " array('f', [2.299999952316284, 4.5, 8.899999618530273, 9.800000190734863])\n",
      "this is character type array: \n",
      " array('u', 'Abcd')\n"
     ]
    }
   ],
   "source": [
    "import array as arr\n",
    "x=arr.array(\"i\",[1,2,3,4,5,6,7])\n",
    "y=arr.array(\"f\",[2.3,4.5,8.9,9.8])\n",
    "z=arr.array('u',[\"A\",'b',\"c\",'d'])\n",
    "print(\"This is Integer Type Array: \\n\",x)\n",
    "print(\"this is float type array: \\n\",y)\n",
    "print(\"this is character type array: \\n\",z)"
   ]
  },
  {
   "cell_type": "code",
   "execution_count": 11,
   "id": "b171a417-0b01-4d4b-a6ce-916992be175a",
   "metadata": {},
   "outputs": [
    {
     "name": "stdout",
     "output_type": "stream",
     "text": [
      "Before Insertion the Elements are as Under: \n",
      "1\n",
      "2\n",
      "3\n",
      "4\n",
      "5\n",
      "6\n",
      "7\n",
      "\n",
      "After Insertion the Elements are as Under: \n",
      "1\n",
      "2\n",
      "3\n",
      "4\n",
      "5\n",
      "6\n",
      "7\n",
      "99\n",
      "\n"
     ]
    }
   ],
   "source": [
    "import array as arr\n",
    "x=arr.array(\"i\",[1,2,3,4,5,6,7])\n",
    "print(\"Before Insertion the Elements are as Under: \\n\", end=\"\")\n",
    "for i in x:\n",
    "    print(i)\n",
    "print()\n",
    "x.append(99)\n",
    "print(\"After Insertion the Elements are as Under: \\n\", end=\"\")\n",
    "for i in x:\n",
    "    print(i)\n",
    "print()"
   ]
  },
  {
   "cell_type": "code",
   "execution_count": 13,
   "id": "8b727e45-d7da-4838-bccc-96b869e9db27",
   "metadata": {},
   "outputs": [
    {
     "name": "stdout",
     "output_type": "stream",
     "text": [
      "Before Insertion the Elements are as Under: \n",
      "1\n",
      "2\n",
      "3\n",
      "4\n",
      "5\n",
      "6\n",
      "7\n",
      "\n",
      "After Insertion the Elements are as Under: \n",
      "1\n",
      "2\n",
      "85\n",
      "3\n",
      "4\n",
      "5\n",
      "6\n",
      "7\n",
      "\n"
     ]
    }
   ],
   "source": [
    "import array as arr\n",
    "x=arr.array(\"i\",[1,2,3,4,5,6,7])\n",
    "print(\"Before Insertion the Elements are as Under: \\n\", end=\"\")\n",
    "for i in x:\n",
    "    print(i)\n",
    "print()\n",
    "x.insert(2,85)\n",
    "print(\"After Insertion the Elements are as Under: \\n\", end=\"\")\n",
    "for i in x:\n",
    "    print(i)\n",
    "print()"
   ]
  },
  {
   "cell_type": "code",
   "execution_count": 19,
   "id": "7380aeb8-705b-4721-980a-aecf93201f38",
   "metadata": {},
   "outputs": [
    {
     "name": "stdout",
     "output_type": "stream",
     "text": [
      "Before deletion the elements are as under: \n",
      "3\n",
      "5\n",
      "7\n",
      "3\n",
      "9\n",
      "0\n",
      "6\n",
      "\n",
      "After deletion the elements are as under: \n",
      "3\n",
      "5\n",
      "3\n",
      "9\n",
      "0\n",
      "6\n"
     ]
    }
   ],
   "source": [
    "#Deletion Operation\n",
    "import array as arr\n",
    "x=arr.array(\"i\",[3,5,7,3,9,0,6])\n",
    "print(\"Before deletion the elements are as under: \\n\", end=\"\")\n",
    "for i in range(len(x)):\n",
    "    print(x[i])\n",
    "print()\n",
    "x.remove(7)\n",
    "print(\"After deletion the elements are as under: \\n\", end=\"\")\n",
    "for i in x:\n",
    "    print(i)\n",
    "    "
   ]
  },
  {
   "cell_type": "code",
   "execution_count": 21,
   "id": "3d8a38ce-15b9-47c8-a0b0-c1b7f6d046f3",
   "metadata": {},
   "outputs": [],
   "source": [
    "#Accessing array elements\n"
   ]
  },
  {
   "cell_type": "code",
   "execution_count": 27,
   "id": "d1aefd46-c074-49da-b212-e419bd97e738",
   "metadata": {},
   "outputs": [
    {
     "name": "stdout",
     "output_type": "stream",
     "text": [
      "the fisrt element that is accessed is :  3\n",
      "the Second element that is accessed is :  5\n",
      "the Third element that is accessed is :  7\n",
      "the forth element that is accessed is :  3\n",
      "the fifth element that is accessed is :  9\n",
      "the Sixth element that is accessed is :  0\n"
     ]
    }
   ],
   "source": [
    "import array as arr\n",
    "x=arr.array(\"i\",[3,5,7,3,9,0])\n",
    "print(\"the fisrt element that is accessed is : \",x[0])\n",
    "print(\"the Second element that is accessed is : \",x[1])\n",
    "print(\"the Third element that is accessed is : \",x[2])\n",
    "print(\"the forth element that is accessed is : \",x[3])\n",
    "print(\"the fifth element that is accessed is : \",x[4])\n",
    "print(\"the Sixth element that is accessed is : \",x[5])"
   ]
  },
  {
   "cell_type": "code",
   "execution_count": 37,
   "id": "cb7d51ea-e87f-4e82-a638-e674052d5781",
   "metadata": {},
   "outputs": [
    {
     "name": "stdout",
     "output_type": "stream",
     "text": [
      "Before serching all the elements in array are as under: \n",
      "3\n",
      "5\n",
      "7\n",
      "3\n",
      "9\n",
      "0\n",
      "After serching any elemnent: \n",
      "after serching the element 7 the output is: 2\n",
      "after serching the element 0 the output is: 5\n"
     ]
    }
   ],
   "source": [
    "#Searching array Elements\n",
    "import array as arr\n",
    "x=arr.array(\"i\",[3,5,7,3,9,0])\n",
    "print(\"Before serching all the elements in array are as under: \\n\", end=\"\")\n",
    "for i in range(len(x)):\n",
    "    print(x[i])\n",
    "print(\"After serching any elemnent: \\n\",end=\"\")\n",
    "a=x[2]\n",
    "b=x[5]\n",
    "print(\"after serching the element 7 the output is:\", x.index(a))\n",
    "print(\"after serching the element 0 the output is:\", x.index(b))"
   ]
  },
  {
   "cell_type": "code",
   "execution_count": null,
   "id": "d759e2a5-7c6a-40e0-98f6-c2afec33b8e1",
   "metadata": {},
   "outputs": [],
   "source": []
  }
 ],
 "metadata": {
  "kernelspec": {
   "display_name": "Python 3 (ipykernel)",
   "language": "python",
   "name": "python3"
  },
  "language_info": {
   "codemirror_mode": {
    "name": "ipython",
    "version": 3
   },
   "file_extension": ".py",
   "mimetype": "text/x-python",
   "name": "python",
   "nbconvert_exporter": "python",
   "pygments_lexer": "ipython3",
   "version": "3.12.4"
  }
 },
 "nbformat": 4,
 "nbformat_minor": 5
}
