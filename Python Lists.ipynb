{
 "cells": [
  {
   "cell_type": "markdown",
   "id": "de361331",
   "metadata": {},
   "source": [
    "# List:"
   ]
  },
  {
   "cell_type": "raw",
   "id": "19f98af5",
   "metadata": {},
   "source": [
    "In Python, a list is a data structure used to store a collection of items. It is a mutable, ordered sequence of elements. Lists are defined using square brackets [], and elements within the list are separated by commas.\n",
    "Here's a simple example of defining a list in Python:"
   ]
  },
  {
   "cell_type": "code",
   "execution_count": 6,
   "id": "b551ed89",
   "metadata": {},
   "outputs": [],
   "source": [
    "L=[1,2,3,4,5]"
   ]
  },
  {
   "cell_type": "code",
   "execution_count": 7,
   "id": "b6ab56b6",
   "metadata": {},
   "outputs": [
    {
     "name": "stdout",
     "output_type": "stream",
     "text": [
      "[1, 2, 3, 4, 5]\n"
     ]
    }
   ],
   "source": [
    "print(L)"
   ]
  },
  {
   "cell_type": "raw",
   "id": "bb97585c",
   "metadata": {},
   "source": [
    "In this example, \"L\" is a list containing integers from 1 to 5.\n",
    "Lists can contain elements of different types, including integers, floats, strings, or even other lists. For example:"
   ]
  },
  {
   "cell_type": "code",
   "execution_count": 31,
   "id": "f1020892",
   "metadata": {},
   "outputs": [
    {
     "data": {
      "text/plain": [
       "[1, 2, 3, 4, 5, 12.4, 'Zubair', True]"
      ]
     },
     "execution_count": 31,
     "metadata": {},
     "output_type": "execute_result"
    }
   ],
   "source": [
    "L2=[1, 2, 3, 4, 5, 12.4, 'Zubair', True] #Mixed List\n",
    "L2"
   ]
  },
  {
   "cell_type": "raw",
   "id": "3bdb55a2",
   "metadata": {},
   "source": [
    "List items are ordered, changeable, and allow duplicate values."
   ]
  },
  {
   "cell_type": "code",
   "execution_count": 30,
   "id": "cd967e40",
   "metadata": {},
   "outputs": [
    {
     "data": {
      "text/plain": [
       "[4, 2, 6, 9, 'zub', 9, 6, 6, 6, True]"
      ]
     },
     "execution_count": 30,
     "metadata": {},
     "output_type": "execute_result"
    }
   ],
   "source": [
    "l=[4,2,6,9,\"zub\",9,6,6,6,True]\n",
    "l"
   ]
  },
  {
   "cell_type": "raw",
   "id": "1c6a4d66",
   "metadata": {},
   "source": [
    "When we say that lists are ordered, it means that the items have a defined order, and that order will not change.\n",
    "If you add new items to a list, the new items will be placed at the end of the list."
   ]
  },
  {
   "cell_type": "raw",
   "id": "65fea420",
   "metadata": {},
   "source": [
    "Note: There are some list methods that will change the order, but in general: the order of the items will not change.\n",
    "The list is changeable, meaning that we can change, add, and remove items in a list after it has been created."
   ]
  },
  {
   "cell_type": "markdown",
   "id": "da3aa9cb",
   "metadata": {},
   "source": [
    "# Nested List:"
   ]
  },
  {
   "cell_type": "raw",
   "id": "c2ef096b",
   "metadata": {},
   "source": [
    "A nested list refers to a list that contains other lists as its elements. These inner lists can themselves contain any data type, including integers, strings, floats, or even other nested lists. Essentially, it's a list within a list.\n",
    "Nested lists are a useful feature in Python and are commonly used in situations where you need to organize data hierarchically. They allow for the representation of more complex data structures, such as matrices, tables, or trees."
   ]
  },
  {
   "cell_type": "code",
   "execution_count": 10,
   "id": "00e7918d",
   "metadata": {},
   "outputs": [],
   "source": [
    "L3 = [[1, 2, 3], [\"a\", \"b\", \"c\"], [True, False]] #nested List"
   ]
  },
  {
   "cell_type": "code",
   "execution_count": 11,
   "id": "d42fcd1b",
   "metadata": {},
   "outputs": [
    {
     "data": {
      "text/plain": [
       "[[1, 2, 3], ['a', 'b', 'c'], [True, False]]"
      ]
     },
     "execution_count": 11,
     "metadata": {},
     "output_type": "execute_result"
    }
   ],
   "source": [
    "L3"
   ]
  },
  {
   "cell_type": "code",
   "execution_count": 5,
   "id": "ffd99e5e",
   "metadata": {},
   "outputs": [
    {
     "data": {
      "text/plain": [
       "[1, 2, 3, 4, 56, 6, 8, 9]"
      ]
     },
     "execution_count": 5,
     "metadata": {},
     "output_type": "execute_result"
    }
   ],
   "source": [
    "l2=[1,2,3,4,56,6,8,9]\n",
    "l2"
   ]
  },
  {
   "cell_type": "code",
   "execution_count": 17,
   "id": "ae7250f8",
   "metadata": {},
   "outputs": [
    {
     "name": "stdout",
     "output_type": "stream",
     "text": [
      "<class 'list'>\n"
     ]
    },
    {
     "data": {
      "text/plain": [
       "(5, 8, 3)"
      ]
     },
     "execution_count": 17,
     "metadata": {},
     "output_type": "execute_result"
    }
   ],
   "source": [
    "#if you want to check the datatype of list then simply type \n",
    "print(type(L))\n",
    "len(L)"
   ]
  },
  {
   "cell_type": "code",
   "execution_count": 21,
   "id": "453dd07c",
   "metadata": {},
   "outputs": [
    {
     "name": "stdout",
     "output_type": "stream",
     "text": [
      "5\n"
     ]
    }
   ],
   "source": [
    "#if you want to check the length of list\n",
    "print(len(L)) # or simply type len(L)\n"
   ]
  },
  {
   "cell_type": "code",
   "execution_count": 23,
   "id": "d4ca8cfd",
   "metadata": {},
   "outputs": [
    {
     "data": {
      "text/plain": [
       "[1, 2, 3, 4, 5]"
      ]
     },
     "execution_count": 23,
     "metadata": {},
     "output_type": "execute_result"
    }
   ],
   "source": [
    "L  #you can call any variable anywhere ones it is declared"
   ]
  },
  {
   "cell_type": "markdown",
   "id": "698e3bd9",
   "metadata": {},
   "source": [
    "# Indexing:"
   ]
  },
  {
   "cell_type": "raw",
   "id": "30259dd8",
   "metadata": {},
   "source": [
    "You can access elements within a list using indexing. Indexing starts from 0 for the first element, 1 for the second, and so on. Negative indices can be used to access elements from the end of the list.\n",
    "Indexing in Python lists allows you to access individual elements within the list. Here's how indexing works:\n",
    "Positive Indexing: Positive indexing starts from 0 for the first element, 1 for the second element, and so on. You can access elements from the beginning of the list using positive indices.\n",
    "Negative Indexing: Negative indexing starts from -1 for the last element, -2 for the second-to-last element, and so on. You can access elements from the end of the list using negative indices.\n",
    "Here's an example of indexing in a list:"
   ]
  },
  {
   "cell_type": "raw",
   "id": "bd13db2d",
   "metadata": {},
   "source": [
    "my_list = ['a', 'b', 'c', 'd', 'e']\n",
    "\n",
    "# Positive indexing\n",
    "print(my_list[0])  # Output: 'a'\n",
    "print(my_list[2])  # Output: 'c'\n",
    "print(my_list[4])  # Output: 'e'\n",
    "\n",
    "# Negative indexing\n",
    "print(my_list[-1]) # Output: 'e'\n",
    "print(my_list[-3]) # Output: 'c'\n",
    "print(my_list[-5]) # Output: 'a'"
   ]
  },
  {
   "cell_type": "raw",
   "id": "c3530116",
   "metadata": {},
   "source": [
    "You can also use indexing to access elements within nested lists:"
   ]
  },
  {
   "cell_type": "raw",
   "id": "3b752bc5",
   "metadata": {},
   "source": [
    "nested_list = [[1, 2, 3], ['a', 'b', 'c'], [True, False]]\n",
    "\n",
    "print(nested_list[0][1])  # Output: 2\n",
    "print(nested_list[1][2])  # Output: 'c'\n",
    "print(nested_list[-1][-1]) # Output: False"
   ]
  },
  {
   "cell_type": "markdown",
   "id": "680fdebc",
   "metadata": {},
   "source": [
    "# SLICING:"
   ]
  },
  {
   "cell_type": "raw",
   "id": "235b4936",
   "metadata": {},
   "source": [
    "Slicing in Python lists allows you to extract a portion of the list. It's done by specifying a range of indices indicating the start, stop, and step of the slice. The syntax for slicing is list[start:stop:step]. Here's what each part means:\n",
    "\n",
    "start: The index where the slice begins (inclusive).\n",
    "stop: The index where the slice ends (exclusive).\n",
    "step: The increment between each index. If omitted, it defaults to 1."
   ]
  },
  {
   "cell_type": "code",
   "execution_count": 35,
   "id": "c0210896",
   "metadata": {},
   "outputs": [
    {
     "data": {
      "text/plain": [
       "[4, 3, 2, 6]"
      ]
     },
     "execution_count": 35,
     "metadata": {},
     "output_type": "execute_result"
    }
   ],
   "source": [
    "l=[1,4,3,2,6,7,\"Zubair\",20.1]\n",
    "l[1:5] #Get elements from index 1 to index 5 (exclusive)"
   ]
  },
  {
   "cell_type": "code",
   "execution_count": 36,
   "id": "648f0a96",
   "metadata": {},
   "outputs": [
    {
     "data": {
      "text/plain": [
       "[1, 4, 3, 2, 6, 7, 'Zubair', 20.1]"
      ]
     },
     "execution_count": 36,
     "metadata": {},
     "output_type": "execute_result"
    }
   ],
   "source": [
    "l[0:100] #Get elements from index 1 to index n-1 i:e (last element)"
   ]
  },
  {
   "cell_type": "code",
   "execution_count": 37,
   "id": "dc6d8ef5",
   "metadata": {},
   "outputs": [
    {
     "data": {
      "text/plain": [
       "[3, 2, 6]"
      ]
     },
     "execution_count": 37,
     "metadata": {},
     "output_type": "execute_result"
    }
   ],
   "source": [
    "l[2:5] # Get elements from index 2 to index 5 (exclusive)"
   ]
  },
  {
   "cell_type": "code",
   "execution_count": 38,
   "id": "aeae32d3",
   "metadata": {},
   "outputs": [
    {
     "data": {
      "text/plain": [
       "[1, 3, 6]"
      ]
     },
     "execution_count": 38,
     "metadata": {},
     "output_type": "execute_result"
    }
   ],
   "source": [
    "l[0:6:2] # Get elements from index 0 to index 6 (exclusive) with a step of 2"
   ]
  },
  {
   "cell_type": "code",
   "execution_count": null,
   "id": "29fe09ad",
   "metadata": {},
   "outputs": [],
   "source": [
    "l[-3:] # Get the last three elements of the list"
   ]
  },
  {
   "cell_type": "code",
   "execution_count": 39,
   "id": "a2241661",
   "metadata": {},
   "outputs": [
    {
     "data": {
      "text/plain": [
       "[3, 2, 6, 7, 'Zubair', 20.1]"
      ]
     },
     "execution_count": 39,
     "metadata": {},
     "output_type": "execute_result"
    }
   ],
   "source": [
    "l[2:] # Get all elements except the first two"
   ]
  },
  {
   "cell_type": "code",
   "execution_count": 40,
   "id": "1f391059",
   "metadata": {},
   "outputs": [
    {
     "data": {
      "text/plain": [
       "[20.1, 'Zubair', 7, 6, 2, 3, 4, 1]"
      ]
     },
     "execution_count": 40,
     "metadata": {},
     "output_type": "execute_result"
    }
   ],
   "source": [
    "l[::-1] # Reverse the list"
   ]
  },
  {
   "cell_type": "markdown",
   "id": "42dfacff",
   "metadata": {},
   "source": [
    "# List Methods:"
   ]
  },
  {
   "cell_type": "raw",
   "id": "836cf973",
   "metadata": {},
   "source": [
    "Lists support various operations such as appending, extending, removing, slicing, and more, making them versatile data structures in Python."
   ]
  },
  {
   "cell_type": "raw",
   "id": "29b1d2e3",
   "metadata": {},
   "source": [
    "1. append()  #Adds an element at the end of the list"
   ]
  },
  {
   "cell_type": "code",
   "execution_count": 42,
   "id": "0b69dd7e",
   "metadata": {},
   "outputs": [
    {
     "data": {
      "text/plain": [
       "[1, 4, 3, 2, 6, 7, 'Zubair', 20.1, 'Fayaz', 'Fayaz']"
      ]
     },
     "execution_count": 42,
     "metadata": {},
     "output_type": "execute_result"
    }
   ],
   "source": [
    "l.append(\"Fayaz\")\n",
    "l"
   ]
  },
  {
   "cell_type": "raw",
   "id": "3bee3775",
   "metadata": {},
   "source": [
    "2. clear() #Removes all the elements from the list"
   ]
  },
  {
   "cell_type": "code",
   "execution_count": 45,
   "id": "6ccad25a",
   "metadata": {},
   "outputs": [
    {
     "data": {
      "text/plain": [
       "[]"
      ]
     },
     "execution_count": 45,
     "metadata": {},
     "output_type": "execute_result"
    }
   ],
   "source": [
    "l.clear()\n",
    "l"
   ]
  },
  {
   "cell_type": "code",
   "execution_count": 48,
   "id": "a02358f8",
   "metadata": {},
   "outputs": [],
   "source": [
    "l=[1, 4, 3, 2, 6, 7, 'Zubair', 20.1, 'Fayaz', 'Fayaz']"
   ]
  },
  {
   "cell_type": "code",
   "execution_count": 49,
   "id": "17e952d2",
   "metadata": {},
   "outputs": [
    {
     "data": {
      "text/plain": [
       "[1, 4, 3, 2, 6, 7, 'Zubair', 20.1, 'Fayaz', 'Fayaz']"
      ]
     },
     "execution_count": 49,
     "metadata": {},
     "output_type": "execute_result"
    }
   ],
   "source": [
    "l.copy() #Returns a copy of the list"
   ]
  },
  {
   "cell_type": "code",
   "execution_count": 50,
   "id": "178b7ea4",
   "metadata": {},
   "outputs": [
    {
     "data": {
      "text/plain": [
       "1"
      ]
     },
     "execution_count": 50,
     "metadata": {},
     "output_type": "execute_result"
    }
   ],
   "source": [
    "l.count(6) #Returns the number of elements with the specified value"
   ]
  },
  {
   "cell_type": "code",
   "execution_count": 53,
   "id": "cd87f83d",
   "metadata": {},
   "outputs": [
    {
     "data": {
      "text/plain": [
       "[2, 1, 3, 2, 3, 2, 'apple', 3, 2, 5, 4, 6, 7, 'banana']"
      ]
     },
     "execution_count": 53,
     "metadata": {},
     "output_type": "execute_result"
    }
   ],
   "source": [
    "# count() Returns the number of elements with the specified value\n",
    "l1=[2,1,3,2,3,2,\"apple\"]\n",
    "l2=[3,2,5,4,6,7,\"banana\"]\n",
    "l1.extend(l2)\n",
    "l1"
   ]
  },
  {
   "cell_type": "code",
   "execution_count": 55,
   "id": "b585bbfc",
   "metadata": {},
   "outputs": [
    {
     "data": {
      "text/plain": [
       "2"
      ]
     },
     "execution_count": 55,
     "metadata": {},
     "output_type": "execute_result"
    }
   ],
   "source": [
    "# index()Returns the index of the first element with the specified value\n",
    "l1.index(3)"
   ]
  },
  {
   "cell_type": "code",
   "execution_count": 57,
   "id": "97a7edb9",
   "metadata": {},
   "outputs": [
    {
     "data": {
      "text/plain": [
       "[2, 1, 3, 'orange', 'orange', 2, 3, 2, 'apple', 3, 2, 5, 4, 6, 7, 'banana']"
      ]
     },
     "execution_count": 57,
     "metadata": {},
     "output_type": "execute_result"
    }
   ],
   "source": [
    "# insert() Adds an element at the specified position\n",
    "l1.insert(3,\"orange\")\n",
    "l1"
   ]
  },
  {
   "cell_type": "code",
   "execution_count": 58,
   "id": "a6454680",
   "metadata": {},
   "outputs": [
    {
     "data": {
      "text/plain": [
       "'banana'"
      ]
     },
     "execution_count": 58,
     "metadata": {},
     "output_type": "execute_result"
    }
   ],
   "source": [
    "#pop() Removes the element at the specified position\n",
    "l1.pop()"
   ]
  },
  {
   "cell_type": "code",
   "execution_count": 64,
   "id": "908e6623",
   "metadata": {},
   "outputs": [
    {
     "data": {
      "text/plain": [
       "[2, 1, 3, 2, 3, 2, 'apple', 3, 2, 5, 6, 7]"
      ]
     },
     "execution_count": 64,
     "metadata": {},
     "output_type": "execute_result"
    }
   ],
   "source": [
    "#remove() Removes the first item with the specified value\n",
    "l1.remove(\"orange\")\n",
    "l1"
   ]
  },
  {
   "cell_type": "code",
   "execution_count": 66,
   "id": "aef3b8bd",
   "metadata": {},
   "outputs": [
    {
     "data": {
      "text/plain": [
       "[2, 1, 3, 2, 3, 2, 'apple', 3, 2, 5, 6, 7]"
      ]
     },
     "execution_count": 66,
     "metadata": {},
     "output_type": "execute_result"
    }
   ],
   "source": [
    "# reverse() Reverses the order of the list\n",
    "l1.reverse()\n",
    "l1"
   ]
  },
  {
   "cell_type": "code",
   "execution_count": 72,
   "id": "2b53a3ff",
   "metadata": {},
   "outputs": [
    {
     "name": "stdout",
     "output_type": "stream",
     "text": [
      "[0, 1, 2, 2, 3, 4, 7, 9]\n"
     ]
    }
   ],
   "source": [
    "l=[7,3,4,2,9,0,1,2]\n",
    "l.sort()\n",
    "print(l)"
   ]
  }
 ],
 "metadata": {
  "kernelspec": {
   "display_name": "Python 3 (ipykernel)",
   "language": "python",
   "name": "python3"
  },
  "language_info": {
   "codemirror_mode": {
    "name": "ipython",
    "version": 3
   },
   "file_extension": ".py",
   "mimetype": "text/x-python",
   "name": "python",
   "nbconvert_exporter": "python",
   "pygments_lexer": "ipython3",
   "version": "3.9.12"
  }
 },
 "nbformat": 4,
 "nbformat_minor": 5
}
