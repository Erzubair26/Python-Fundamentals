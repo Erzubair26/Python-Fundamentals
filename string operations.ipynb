{
 "cells": [
  {
   "cell_type": "code",
   "execution_count": 11,
   "id": "a068d866-6475-4f2f-b8a1-92c9a86869af",
   "metadata": {},
   "outputs": [
    {
     "data": {
      "text/plain": [
       "'Hello World'"
      ]
     },
     "execution_count": 11,
     "metadata": {},
     "output_type": "execute_result"
    }
   ],
   "source": [
    "#operstions on strings:\n",
    "#1. Concatenation:\n",
    "str1=\"Hello\"\n",
    "str2=\"World\"\n",
    "x=str1 + \" \" + str2\n",
    "x"
   ]
  },
  {
   "cell_type": "code",
   "execution_count": 13,
   "id": "c9d2e8ab-d8ee-43d7-b6ee-7715c246fe3c",
   "metadata": {},
   "outputs": [],
   "source": [
    "#Repetition"
   ]
  },
  {
   "cell_type": "code",
   "execution_count": 15,
   "id": "45e85ec4-f2df-485f-b2ec-c8f49a191486",
   "metadata": {},
   "outputs": [
    {
     "data": {
      "text/plain": [
       "'Hello'"
      ]
     },
     "execution_count": 15,
     "metadata": {},
     "output_type": "execute_result"
    }
   ],
   "source": [
    "str1"
   ]
  },
  {
   "cell_type": "code",
   "execution_count": 25,
   "id": "7a53a754-458a-4e98-a818-e52c185455b0",
   "metadata": {},
   "outputs": [
    {
     "data": {
      "text/plain": [
       "'HelloHelloHelloHello'"
      ]
     },
     "execution_count": 25,
     "metadata": {},
     "output_type": "execute_result"
    }
   ],
   "source": [
    "str1 * 4"
   ]
  },
  {
   "cell_type": "code",
   "execution_count": 27,
   "id": "1547dcaa-f6ac-4af9-b7d3-9a9ec582c68e",
   "metadata": {},
   "outputs": [],
   "source": [
    "# Slicing"
   ]
  },
  {
   "cell_type": "code",
   "execution_count": 29,
   "id": "f868a71d-30d2-4b13-8928-73ea69427288",
   "metadata": {},
   "outputs": [
    {
     "name": "stdout",
     "output_type": "stream",
     "text": [
      "Hello\n",
      "World\n"
     ]
    }
   ],
   "source": [
    "str1 = \"Hello World\"\n",
    "print(str1[0:5])  # Output: Hello\n",
    "print(str1[6:])   # Output: World\n"
   ]
  },
  {
   "cell_type": "code",
   "execution_count": 31,
   "id": "ee6d9420-aac2-4392-bef6-23b9ea4b1fd3",
   "metadata": {},
   "outputs": [],
   "source": [
    "#Length"
   ]
  },
  {
   "cell_type": "code",
   "execution_count": 33,
   "id": "0ceb5612-af6a-42f9-b3e8-860dc63f8f45",
   "metadata": {},
   "outputs": [
    {
     "name": "stdout",
     "output_type": "stream",
     "text": [
      "5\n"
     ]
    }
   ],
   "source": [
    "str1 = \"Hello\"\n",
    "print(len(str1))  # Output: 5\n"
   ]
  },
  {
   "cell_type": "code",
   "execution_count": 35,
   "id": "f6cf03a8-8d1c-49b6-b963-7afba5753fbe",
   "metadata": {},
   "outputs": [],
   "source": [
    "#Traversing \n",
    "str2=\"Hello and Welcome\""
   ]
  },
  {
   "cell_type": "code",
   "execution_count": 37,
   "id": "443f063d-7362-4662-ba27-f179c4c76004",
   "metadata": {},
   "outputs": [
    {
     "name": "stdout",
     "output_type": "stream",
     "text": [
      "H\n",
      "e\n",
      "l\n",
      "l\n",
      "o\n",
      " \n",
      "a\n",
      "n\n",
      "d\n",
      " \n",
      "W\n",
      "e\n",
      "l\n",
      "c\n",
      "o\n",
      "m\n",
      "e\n"
     ]
    }
   ],
   "source": [
    "for i in str2:\n",
    "    print(i)"
   ]
  },
  {
   "cell_type": "code",
   "execution_count": 39,
   "id": "c75b262a-39e2-4795-9fa6-94805736f16d",
   "metadata": {},
   "outputs": [
    {
     "name": "stdout",
     "output_type": "stream",
     "text": [
      "0\n",
      "1\n",
      "2\n",
      "3\n",
      "4\n",
      "5\n",
      "6\n",
      "7\n",
      "8\n",
      "9\n",
      "10\n",
      "11\n",
      "12\n",
      "13\n",
      "14\n",
      "15\n",
      "16\n"
     ]
    }
   ],
   "source": [
    "for i in range(len(str2)):\n",
    "    print(i)"
   ]
  },
  {
   "cell_type": "code",
   "execution_count": 47,
   "id": "ac862f6c-fbee-4270-839c-d6554f07bf89",
   "metadata": {},
   "outputs": [
    {
     "data": {
      "text/plain": [
       "'abcde'"
      ]
     },
     "execution_count": 47,
     "metadata": {},
     "output_type": "execute_result"
    }
   ],
   "source": [
    "#Sorting a String\n",
    "str3=\"dacbe\"\n",
    "sorted_str3= \"\". join(sorted(str3))\n",
    "sorted_str3"
   ]
  },
  {
   "cell_type": "code",
   "execution_count": 45,
   "id": "ad94ed42-6e5f-48bd-bdd2-45710fd5a0bc",
   "metadata": {},
   "outputs": [
    {
     "ename": "AttributeError",
     "evalue": "'str' object has no attribute 'sorted'",
     "output_type": "error",
     "traceback": [
      "\u001b[1;31m------------------------------------------------------------------------\u001b[0m",
      "\u001b[1;31mAttributeError\u001b[0m                         Traceback (most recent call last)",
      "Cell \u001b[1;32mIn[45], line 1\u001b[0m\n\u001b[1;32m----> 1\u001b[0m str3\u001b[38;5;241m.\u001b[39msorted()\n",
      "\u001b[1;31mAttributeError\u001b[0m: 'str' object has no attribute 'sorted'"
     ]
    }
   ],
   "source": []
  },
  {
   "cell_type": "code",
   "execution_count": 49,
   "id": "fe298b58-96ea-4469-820f-abc9364e9cc6",
   "metadata": {},
   "outputs": [],
   "source": [
    "#Deleting from a String"
   ]
  },
  {
   "cell_type": "code",
   "execution_count": 55,
   "id": "587aaa4f-3dcd-463b-b8a2-3361f58a023f",
   "metadata": {},
   "outputs": [],
   "source": [
    "#You cannot directly delete characters from a string since strings are immutable.  \n",
    "#However,you can create a new string that omits the unwanted character(s)."
   ]
  },
  {
   "cell_type": "code",
   "execution_count": 57,
   "id": "9ea8afce-2b85-426f-9fe7-8387e238a894",
   "metadata": {},
   "outputs": [
    {
     "data": {
      "text/plain": [
       "'wecome'"
      ]
     },
     "execution_count": 57,
     "metadata": {},
     "output_type": "execute_result"
    }
   ],
   "source": [
    "str=\"welcome\"\n",
    "str.replace(\"l\",\"\")"
   ]
  },
  {
   "cell_type": "code",
   "execution_count": 59,
   "id": "e9526729-6601-4e52-b033-fae54e3e7023",
   "metadata": {},
   "outputs": [],
   "source": [
    "#Inserting into a String"
   ]
  },
  {
   "cell_type": "code",
   "execution_count": 61,
   "id": "d20a37d1-cf5e-41e9-bbad-300feec0db46",
   "metadata": {},
   "outputs": [],
   "source": [
    "str5=\"hello all\""
   ]
  },
  {
   "cell_type": "code",
   "execution_count": 65,
   "id": "4914f346-fb24-44b7-b657-5403722406b8",
   "metadata": {},
   "outputs": [
    {
     "data": {
      "text/plain": [
       "'hello '"
      ]
     },
     "execution_count": 65,
     "metadata": {},
     "output_type": "execute_result"
    }
   ],
   "source": [
    "str5[:6]"
   ]
  },
  {
   "cell_type": "code",
   "execution_count": 69,
   "id": "b6cdc8d5-28d6-4601-a9bc-6154161b1c1f",
   "metadata": {},
   "outputs": [
    {
     "data": {
      "text/plain": [
       "'hello & all'"
      ]
     },
     "execution_count": 69,
     "metadata": {},
     "output_type": "execute_result"
    }
   ],
   "source": [
    "str5[:6] + \"&\" + str5[5:]"
   ]
  },
  {
   "cell_type": "code",
   "execution_count": 71,
   "id": "85a630a9-928d-43ee-9cd1-ac571f410880",
   "metadata": {},
   "outputs": [
    {
     "data": {
      "text/plain": [
       "' all'"
      ]
     },
     "execution_count": 71,
     "metadata": {},
     "output_type": "execute_result"
    }
   ],
   "source": [
    "str5[5:]"
   ]
  },
  {
   "cell_type": "code",
   "execution_count": 73,
   "id": "d35da579-5fa7-4cad-a0d2-8235d3515661",
   "metadata": {},
   "outputs": [],
   "source": [
    "#searching"
   ]
  },
  {
   "cell_type": "code",
   "execution_count": 77,
   "id": "e3f2ac99-76f6-4914-b68d-ccf17571cfe5",
   "metadata": {},
   "outputs": [
    {
     "data": {
      "text/plain": [
       "2"
      ]
     },
     "execution_count": 77,
     "metadata": {},
     "output_type": "execute_result"
    }
   ],
   "source": [
    "s=\"hello\"\n",
    "s.find(\"l\")"
   ]
  },
  {
   "cell_type": "code",
   "execution_count": null,
   "id": "eda2c6ca-414d-41f5-9580-aa718b7485bc",
   "metadata": {},
   "outputs": [],
   "source": []
  }
 ],
 "metadata": {
  "kernelspec": {
   "display_name": "Python 3 (ipykernel)",
   "language": "python",
   "name": "python3"
  },
  "language_info": {
   "codemirror_mode": {
    "name": "ipython",
    "version": 3
   },
   "file_extension": ".py",
   "mimetype": "text/x-python",
   "name": "python",
   "nbconvert_exporter": "python",
   "pygments_lexer": "ipython3",
   "version": "3.12.4"
  }
 },
 "nbformat": 4,
 "nbformat_minor": 5
}
