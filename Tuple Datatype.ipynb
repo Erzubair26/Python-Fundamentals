{
 "cells": [
  {
   "cell_type": "markdown",
   "id": "5041e39b",
   "metadata": {},
   "source": [
    "# Tuple:"
   ]
  },
  {
   "cell_type": "raw",
   "id": "74856be0",
   "metadata": {},
   "source": [
    "Python tuples are a type of data structure that is very similar to lists. The main difference between the two is that tuples are immutable, meaning they cannot be changed once they are created. This makes them ideal for storing data that should not be modified, such as database records.\n",
    "\n",
    "A tuple can have any number of items, which may be of different types, such as a string, integer, float, list, etc. "
   ]
  },
  {
   "cell_type": "markdown",
   "id": "9d581739",
   "metadata": {},
   "source": [
    "# Creating a Python Tuple"
   ]
  },
  {
   "cell_type": "raw",
   "id": "ab7ca67e",
   "metadata": {},
   "source": [
    "Tuples can be created in a number of ways. The most common way is to wrap them in parentheses. Both single and multiple tuples must always be followed by a comma, like so:"
   ]
  },
  {
   "cell_type": "raw",
   "id": "b8d2c0d7",
   "metadata": {},
   "source": [
    "my_tuple = (item1,) #single tuple\n",
    "my_tuple = (item1, item2, item3) #multiple tuple"
   ]
  },
  {
   "cell_type": "code",
   "execution_count": 3,
   "id": "6d97c243",
   "metadata": {},
   "outputs": [
    {
     "data": {
      "text/plain": [
       "int"
      ]
     },
     "execution_count": 3,
     "metadata": {},
     "output_type": "execute_result"
    }
   ],
   "source": [
    "t=(1) # if we check the type of data if will give as int\n",
    "type(t)"
   ]
  },
  {
   "cell_type": "raw",
   "id": "4a06bdce",
   "metadata": {},
   "source": [
    "To create a tuple with only one item, you have to add a comma after the item, otherwise Python will not recognize it as a tuple."
   ]
  },
  {
   "cell_type": "code",
   "execution_count": 13,
   "id": "64e89a58",
   "metadata": {},
   "outputs": [
    {
     "data": {
      "text/plain": [
       "tuple"
      ]
     },
     "execution_count": 13,
     "metadata": {},
     "output_type": "execute_result"
    }
   ],
   "source": [
    "t=(1,)  \n",
    "type(t)"
   ]
  },
  {
   "cell_type": "code",
   "execution_count": 7,
   "id": "6add2277",
   "metadata": {},
   "outputs": [
    {
     "name": "stdout",
     "output_type": "stream",
     "text": [
      "('apple', 'banana', 'cherry')\n"
     ]
    }
   ],
   "source": [
    "t1 = (\"apple\", \"banana\", \"cherry\")\n",
    "print(t1)\n"
   ]
  },
  {
   "cell_type": "markdown",
   "id": "a972efe9",
   "metadata": {},
   "source": [
    "# Tuple Items"
   ]
  },
  {
   "cell_type": "markdown",
   "id": "0b6e961e",
   "metadata": {},
   "source": [
    "# 1. Tuple items are ordered:"
   ]
  },
  {
   "cell_type": "raw",
   "id": "bc2356e0",
   "metadata": {},
   "source": [
    "When we say that tuples are ordered, it means that the items have a defined order, and that order will not change."
   ]
  },
  {
   "cell_type": "code",
   "execution_count": 8,
   "id": "7b507866",
   "metadata": {},
   "outputs": [
    {
     "data": {
      "text/plain": [
       "(4, 1, 5, 2, 6, 4, 8, 9)"
      ]
     },
     "execution_count": 8,
     "metadata": {},
     "output_type": "execute_result"
    }
   ],
   "source": [
    "t=(4,1,5,2,6,4,8,9)\n",
    "t"
   ]
  },
  {
   "cell_type": "markdown",
   "id": "4aec5402",
   "metadata": {},
   "source": [
    "# 2. Unchangeable:"
   ]
  },
  {
   "cell_type": "raw",
   "id": "7563b90e",
   "metadata": {},
   "source": [
    "Tuples are unchangeable, meaning that we cannot change, add or remove items after the tuple has been created."
   ]
  },
  {
   "cell_type": "code",
   "execution_count": 9,
   "id": "3b0e9f3c",
   "metadata": {},
   "outputs": [
    {
     "data": {
      "text/plain": [
       "('Zubair', 'Apple', 1, 2.3, (1+2j))"
      ]
     },
     "execution_count": 9,
     "metadata": {},
     "output_type": "execute_result"
    }
   ],
   "source": [
    "t=(\"Zubair\",\"Apple\",1,2.3,1+2j,)\n",
    "t"
   ]
  },
  {
   "cell_type": "markdown",
   "id": "7c6c96ea",
   "metadata": {},
   "source": [
    "# 3. Allow Duplicates:\n",
    "    "
   ]
  },
  {
   "cell_type": "raw",
   "id": "8b868455",
   "metadata": {},
   "source": [
    "Since tuples are indexed, they can have items with the same value"
   ]
  },
  {
   "cell_type": "code",
   "execution_count": 10,
   "id": "65a068cd",
   "metadata": {},
   "outputs": [
    {
     "name": "stdout",
     "output_type": "stream",
     "text": [
      "('apple', 'banana', 'cherry', 1, 2, 4, 9, True, False, 'apple', 'cherry')\n"
     ]
    }
   ],
   "source": [
    "t2 = (\"apple\", \"banana\", \"cherry\",1,2,4,9,True,False, \"apple\", \"cherry\")\n",
    "print(t2)"
   ]
  },
  {
   "cell_type": "raw",
   "id": "cd79b79c",
   "metadata": {},
   "source": [
    "Tuple Length:\n",
    "    To determine how many items a tuple has, use the len() function"
   ]
  },
  {
   "cell_type": "code",
   "execution_count": 12,
   "id": "f9f348d0",
   "metadata": {},
   "outputs": [
    {
     "name": "stdout",
     "output_type": "stream",
     "text": [
      "11\n"
     ]
    }
   ],
   "source": [
    "print(len(t2))"
   ]
  },
  {
   "cell_type": "markdown",
   "id": "27f36719",
   "metadata": {},
   "source": [
    "# Python Tuple Methods"
   ]
  },
  {
   "cell_type": "raw",
   "id": "f6949f41",
   "metadata": {},
   "source": [
    "There are a few methods that can be used on tuples. The most common is the index() method, which can be used to find the position of a given element in the tuple:"
   ]
  },
  {
   "cell_type": "code",
   "execution_count": 19,
   "id": "3bb25229",
   "metadata": {},
   "outputs": [
    {
     "data": {
      "text/plain": [
       "1"
      ]
     },
     "execution_count": 19,
     "metadata": {},
     "output_type": "execute_result"
    }
   ],
   "source": [
    "t = (\"a\", \"b\", \"c\")\n",
    "t.index(\"b\")"
   ]
  },
  {
   "cell_type": "raw",
   "id": "b975455a",
   "metadata": {},
   "source": [
    "Another useful method is count(), which returns the number of times a given element appears in the tuple:"
   ]
  },
  {
   "cell_type": "code",
   "execution_count": 20,
   "id": "e96dfbbd",
   "metadata": {},
   "outputs": [
    {
     "data": {
      "text/plain": [
       "2"
      ]
     },
     "execution_count": 20,
     "metadata": {},
     "output_type": "execute_result"
    }
   ],
   "source": [
    "t1= (\"a\", \"b\", \"c\", \"b\")\n",
    "t1.count(\"b\")\n"
   ]
  },
  {
   "cell_type": "markdown",
   "id": "cc225e0f",
   "metadata": {},
   "source": [
    "# Python Tuple Operations:"
   ]
  },
  {
   "cell_type": "markdown",
   "id": "fc516ad7",
   "metadata": {},
   "source": [
    "# 1. Accessing Tuples:"
   ]
  },
  {
   "cell_type": "raw",
   "id": "8f02ddc3",
   "metadata": {},
   "source": [
    "Tuples can be accessed just like lists, using square brackets and the index of the element you want to access. For example:"
   ]
  },
  {
   "cell_type": "code",
   "execution_count": 21,
   "id": "9fa3c8db",
   "metadata": {},
   "outputs": [
    {
     "data": {
      "text/plain": [
       "'b'"
      ]
     },
     "execution_count": 21,
     "metadata": {},
     "output_type": "execute_result"
    }
   ],
   "source": [
    "t1= (\"a\", \"b\", \"c\")\n",
    "t1[1]"
   ]
  },
  {
   "cell_type": "code",
   "execution_count": 22,
   "id": "284452e0",
   "metadata": {},
   "outputs": [
    {
     "data": {
      "text/plain": [
       "'c'"
      ]
     },
     "execution_count": 22,
     "metadata": {},
     "output_type": "execute_result"
    }
   ],
   "source": [
    "t1[2]"
   ]
  },
  {
   "cell_type": "markdown",
   "id": "bcb73d59",
   "metadata": {},
   "source": [
    "# 2. Slicing:"
   ]
  },
  {
   "cell_type": "raw",
   "id": "b3f711e9",
   "metadata": {},
   "source": [
    "You can also access elements from the end of the tuple using negative indices:"
   ]
  },
  {
   "cell_type": "code",
   "execution_count": 24,
   "id": "e5034c89",
   "metadata": {},
   "outputs": [
    {
     "data": {
      "text/plain": [
       "'a'"
      ]
     },
     "execution_count": 24,
     "metadata": {},
     "output_type": "execute_result"
    }
   ],
   "source": [
    "t4 = (\"a\", \"b\", \"c\")\n",
    "t4[-3]"
   ]
  },
  {
   "cell_type": "code",
   "execution_count": 25,
   "id": "4903cdd5",
   "metadata": {},
   "outputs": [
    {
     "data": {
      "text/plain": [
       "('c', 'b', 'a')"
      ]
     },
     "execution_count": 25,
     "metadata": {},
     "output_type": "execute_result"
    }
   ],
   "source": [
    "t4[::-1]"
   ]
  },
  {
   "cell_type": "code",
   "execution_count": 26,
   "id": "0713fc5a",
   "metadata": {},
   "outputs": [
    {
     "data": {
      "text/plain": [
       "('a', 'b', 'c')"
      ]
     },
     "execution_count": 26,
     "metadata": {},
     "output_type": "execute_result"
    }
   ],
   "source": [
    "t4[0:10]"
   ]
  },
  {
   "cell_type": "code",
   "execution_count": 30,
   "id": "74faf219",
   "metadata": {},
   "outputs": [
    {
     "data": {
      "text/plain": [
       "('a', 'b')"
      ]
     },
     "execution_count": 30,
     "metadata": {},
     "output_type": "execute_result"
    }
   ],
   "source": [
    "t4[-3:-1]"
   ]
  },
  {
   "cell_type": "code",
   "execution_count": 31,
   "id": "656c2a8c",
   "metadata": {},
   "outputs": [
    {
     "data": {
      "text/plain": [
       "(1, 4, 2)"
      ]
     },
     "execution_count": 31,
     "metadata": {},
     "output_type": "execute_result"
    }
   ],
   "source": [
    "t5=(1,2,3,4,6,9,2,\"zub\",True)\n",
    "t5[0:100:3]"
   ]
  },
  {
   "cell_type": "markdown",
   "id": "aafd533b",
   "metadata": {},
   "source": [
    "# 3. Joining Tuples:"
   ]
  },
  {
   "cell_type": "raw",
   "id": "d6b2387e",
   "metadata": {},
   "source": [
    "Tuples can be joined together using the + operator:"
   ]
  },
  {
   "cell_type": "code",
   "execution_count": 35,
   "id": "98a61047",
   "metadata": {},
   "outputs": [
    {
     "name": "stdout",
     "output_type": "stream",
     "text": [
      "('a', 'b', 'c', 'd')\n"
     ]
    }
   ],
   "source": [
    "t1 = (\"a\", \"b\")\n",
    "t2 = (\"c\", \"d\")\n",
    "print(t1 + t2) \n"
   ]
  },
  {
   "cell_type": "raw",
   "id": "78ee61f7",
   "metadata": {},
   "source": [
    "This can also be done with the += operator:"
   ]
  },
  {
   "cell_type": "code",
   "execution_count": 37,
   "id": "0c97dd8b",
   "metadata": {},
   "outputs": [
    {
     "name": "stdout",
     "output_type": "stream",
     "text": [
      "('a', 'b', 'c', 'd')\n"
     ]
    }
   ],
   "source": [
    "t1 = (\"a\", \"b\")\n",
    "t2 = (\"c\", \"d\")\n",
    "t1 += t2  #t1=t1+t2\n",
    "print(t1)\n"
   ]
  },
  {
   "cell_type": "code",
   "execution_count": 34,
   "id": "be38e094",
   "metadata": {},
   "outputs": [
    {
     "data": {
      "text/plain": [
       "('a', 'b', 'a', 'b')"
      ]
     },
     "execution_count": 34,
     "metadata": {},
     "output_type": "execute_result"
    }
   ],
   "source": [
    "t1*2 "
   ]
  },
  {
   "cell_type": "markdown",
   "id": "4f3f202d",
   "metadata": {},
   "source": [
    "# Comparing Tuples:"
   ]
  },
  {
   "cell_type": "raw",
   "id": "f9070c23",
   "metadata": {},
   "source": [
    "Tuples can be compared with each other using the comparison operators, such as == and !=. \n",
    "For example:"
   ]
  },
  {
   "cell_type": "code",
   "execution_count": 38,
   "id": "a1825f72",
   "metadata": {},
   "outputs": [
    {
     "name": "stdout",
     "output_type": "stream",
     "text": [
      "True\n"
     ]
    }
   ],
   "source": [
    "my_tuple = (1, 2)\n",
    "my_tuple2 = (1, 2)\n",
    "print(my_tuple == my_tuple2)"
   ]
  },
  {
   "cell_type": "raw",
   "id": "6c542613",
   "metadata": {},
   "source": [
    "The comparison is done element by element, so tuples of different lengths can not be equal. Additionally, tuples can be compared with other data types, such as lists:"
   ]
  },
  {
   "cell_type": "raw",
   "id": "655e51c3",
   "metadata": {},
   "source": [
    "t6 = (1, 2)\n",
    "l1 = [\"a\", \"b\"]\n",
    "print(t1 < l1) "
   ]
  },
  {
   "cell_type": "markdown",
   "id": "09dcaeb9",
   "metadata": {},
   "source": [
    "# Nesting Tuples:"
   ]
  },
  {
   "cell_type": "raw",
   "id": "9d232fde",
   "metadata": {},
   "source": [
    "Tuples can be nested inside each other to create complex data structures.This can be useful for representing data in a more natural way, such as a list of points in a two-dimensional space.\n",
    "For example:"
   ]
  },
  {
   "cell_type": "code",
   "execution_count": 40,
   "id": "2bd8b6c5",
   "metadata": {},
   "outputs": [
    {
     "name": "stdout",
     "output_type": "stream",
     "text": [
      "((1, 2), ('a', 'b'))\n"
     ]
    }
   ],
   "source": [
    "t9 = ((1, 2), (\"a\", \"b\"))\n",
    "print(t9) "
   ]
  },
  {
   "cell_type": "markdown",
   "id": "eefd4aee",
   "metadata": {},
   "source": [
    "# Converting Between Tuples and Lists:"
   ]
  },
  {
   "cell_type": "raw",
   "id": "d462ae5e",
   "metadata": {},
   "source": [
    "It's often useful to be able to convert between tuples and lists, as they are similar data types. This can be done using the tuple() and list() functions. For example:"
   ]
  },
  {
   "cell_type": "code",
   "execution_count": 41,
   "id": "10954438",
   "metadata": {},
   "outputs": [
    {
     "name": "stdout",
     "output_type": "stream",
     "text": [
      "('a', 'b', 'c')\n"
     ]
    }
   ],
   "source": [
    "my_list = [\"a\", \"b\", \"c\"]\n",
    "my_tuple = tuple(my_list)\n",
    "print(my_tuple)"
   ]
  },
  {
   "cell_type": "raw",
   "id": "8166a04d",
   "metadata": {},
   "source": [
    "This can also be done using the built-in zip() function, which takes two or more sequences and returns a list of tuples:"
   ]
  },
  {
   "cell_type": "code",
   "execution_count": 42,
   "id": "e5df6b5d",
   "metadata": {},
   "outputs": [
    {
     "name": "stdout",
     "output_type": "stream",
     "text": [
      "(('zub',), ('apple',), ('c',))\n"
     ]
    }
   ],
   "source": [
    "my_list = [\"zub\", \"apple\", \"c\"]\n",
    "my_tuple = tuple(zip(my_list))\n",
    "print(my_tuple)\n"
   ]
  },
  {
   "cell_type": "markdown",
   "id": "ae33f762",
   "metadata": {},
   "source": [
    "# Python Tuples vs Lists"
   ]
  },
  {
   "cell_type": "raw",
   "id": "128bc7e0",
   "metadata": {},
   "source": [
    "As we've seen, tuples and lists are very similar data structures.\n",
    "The main difference is that tuples are immutable, while lists are mutable. This means that tuples cannot be changed once they are created, while lists can be modified after they are created.\n",
    "This also means that tuples can be used as keys in dictionaries, while lists cannot.\n",
    "Another difference is that tuples are typically faster than lists. This is because Python knows that a tuple cannot be changed, so it doesn't need to allocate as much memory for it."
   ]
  },
  {
   "cell_type": "code",
   "execution_count": null,
   "id": "2d2c728c",
   "metadata": {},
   "outputs": [],
   "source": []
  }
 ],
 "metadata": {
  "kernelspec": {
   "display_name": "Python 3 (ipykernel)",
   "language": "python",
   "name": "python3"
  },
  "language_info": {
   "codemirror_mode": {
    "name": "ipython",
    "version": 3
   },
   "file_extension": ".py",
   "mimetype": "text/x-python",
   "name": "python",
   "nbconvert_exporter": "python",
   "pygments_lexer": "ipython3",
   "version": "3.12.4"
  }
 },
 "nbformat": 4,
 "nbformat_minor": 5
}
