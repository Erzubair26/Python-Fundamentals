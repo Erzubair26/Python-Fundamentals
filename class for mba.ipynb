{
 "cells": [
  {
   "cell_type": "code",
   "execution_count": 1,
   "id": "d07d3214",
   "metadata": {},
   "outputs": [],
   "source": [
    "class Dog:\n",
    "    sound = \"bark\""
   ]
  },
  {
   "cell_type": "code",
   "execution_count": 2,
   "id": "35dc503e",
   "metadata": {},
   "outputs": [
    {
     "name": "stdout",
     "output_type": "stream",
     "text": [
      "mammal\n",
      "I'm a mammal\n",
      "I'm a dog\n"
     ]
    }
   ],
   "source": [
    "class Dog:\n",
    " \n",
    "    # A simple class\n",
    "    # attribute\n",
    "    attr1 = \"mammal\"\n",
    "    attr2 = \"dog\"\n",
    " \n",
    "    # A sample method\n",
    "    def fun(self):\n",
    "        print(\"I'm a\", self.attr1)\n",
    "        print(\"I'm a\", self.attr2)\n",
    " \n",
    " \n",
    "# Driver code\n",
    "# Object instantiation\n",
    "Rodger = Dog()\n",
    " \n",
    "# Accessing class attributes\n",
    "# and method through objects\n",
    "print(Rodger.attr1)\n",
    "Rodger.fun()"
   ]
  },
  {
   "cell_type": "raw",
   "id": "069cb7b8",
   "metadata": {},
   "source": [
    "In this example, we are creating a Dog class and we have created two class variables attr1 and attr2. We have created a method named fun() which returns the string “I’m a, {attr1}” and I’m a, {attr2}. We have created an object of the Dog class and we are printing at the attr1 of the object. Finally, we are calling the fun() function."
   ]
  },
  {
   "cell_type": "raw",
   "id": "41412181",
   "metadata": {},
   "source": [
    "Self Parameter\n",
    "When we call a method of this object as myobject.method(arg1, arg2), this is automatically converted by Python into MyClass.method(myobject, arg1, arg2) – this is all the special self is about. "
   ]
  },
  {
   "cell_type": "code",
   "execution_count": 3,
   "id": "72ab5d26",
   "metadata": {},
   "outputs": [
    {
     "name": "stdout",
     "output_type": "stream",
     "text": [
      "Hello my name is Zubair and I work in DarHorticare.\n"
     ]
    }
   ],
   "source": [
    "class girlfriend:\n",
    "    def __init__(self, name, company):\n",
    "        self.name = name\n",
    "        self.company = company\n",
    " \n",
    "    def show(self):\n",
    "        print(\"Hello my name is \" + self.name+\" and I\" +\n",
    "              \" work in \"+self.company+\".\")\n",
    " \n",
    " \n",
    "obj = girlfriend(\"Zubair\", \"DarHorticare\")\n",
    "obj.show()"
   ]
  },
  {
   "cell_type": "raw",
   "id": "54e9e29f",
   "metadata": {},
   "source": [
    "__init__() method\n",
    "The __init__ method is similar to constructors in C++ and Java. Constructors are used to initializing the object’s state. Like methods, a constructor also contains a collection of statements(i.e. instructions) that are executed at the time of Object creation. It runs as soon as an object of a class is instantiated. The method is useful to do any initialization you want to do with your object."
   ]
  },
  {
   "cell_type": "raw",
   "id": "b6bcf798",
   "metadata": {},
   "source": [
    "The Self Parameter does not call it to be Self, You can use any other name instead of it. Here we change the self to the word someone and the output will be the same."
   ]
  },
  {
   "cell_type": "code",
   "execution_count": 6,
   "id": "9cdd9a9a",
   "metadata": {},
   "outputs": [
    {
     "name": "stdout",
     "output_type": "stream",
     "text": [
      "Hello my name is Zubair and I work in DarHorticare.\n"
     ]
    }
   ],
   "source": [
    "class friend:\n",
    "    def __init__ (ABC, name, company):\n",
    "        ABC.name = name\n",
    "        ABC.company = company\n",
    " \n",
    "    def show(ABC):\n",
    "        print(\"Hello my name is \" + ABC.name+\" and I\" +\n",
    "              \" work in \"+ ABC.company+\".\")\n",
    " \n",
    " \n",
    "obj = friend(\"Zubair\", \"DarHorticare\")\n",
    "obj.show()"
   ]
  },
  {
   "cell_type": "raw",
   "id": "0cfa7378",
   "metadata": {},
   "source": []
  },
  {
   "cell_type": "raw",
   "id": "4d86fd28",
   "metadata": {},
   "source": [
    "Pass Statement\n",
    "The program’s execution is unaffected by the pass statement’s inaction. It merely permits the program to skip past that section of the code without doing anything. It is frequently employed when the syntactic constraints of Python demand a valid statement but no useful code must be executed."
   ]
  },
  {
   "cell_type": "code",
   "execution_count": null,
   "id": "9a408cf3",
   "metadata": {},
   "outputs": [],
   "source": [
    "class MyClass:\n",
    "    pass"
   ]
  },
  {
   "cell_type": "raw",
   "id": "ad813c96",
   "metadata": {},
   "source": []
  },
  {
   "cell_type": "code",
   "execution_count": 7,
   "id": "abc6f80a",
   "metadata": {},
   "outputs": [
    {
     "name": "stdout",
     "output_type": "stream",
     "text": [
      "Hello, my name is Nikhil\n"
     ]
    }
   ],
   "source": [
    "class Person:\n",
    " \n",
    "    # init method or constructor\n",
    "    def __init__(self, name):\n",
    "        self.name = name\n",
    " \n",
    "    # Sample Method\n",
    "    def say_hi(self):\n",
    "        print('Hello, my name is', self.name)\n",
    " \n",
    " \n",
    "p = Person('Nikhil')\n",
    "p.say_hi()"
   ]
  },
  {
   "cell_type": "raw",
   "id": "9a816749",
   "metadata": {},
   "source": [
    "Explanation:\n",
    "\n",
    "In this example, we are creating a ABC class and we have created the name, and company instance variables in the constructor. We have created a method named say_hi() which returns the string “Hello my name is ” + {name} +” and I work in “+{company}+”.”.We have created a person class object and we passing the name Zubair and Company DarHorticare to the instance variable. Finally, we are calling the show() of the class."
   ]
  },
  {
   "cell_type": "raw",
   "id": "0f7a7e14",
   "metadata": {},
   "source": [
    "Explanation:\n",
    "\n",
    "In this example, we are creating a Person class and we have created a name instance variable in the constructor. \n",
    "We have created a method named as say_hi() which returns the string “Hello, my name is {name}”.\n",
    "We have created a person class object and we pass the name Nikhil to the instance variable. \n",
    "Finally, we are calling the say_hi() of the class."
   ]
  },
  {
   "cell_type": "raw",
   "id": "acd6d791",
   "metadata": {},
   "source": [
    "__str__() method\n",
    "Python has a particular method called __str__(). that is used to define how a class object should be represented as a string. It is often used to give an object a human-readable textual representation, which is helpful for logging, debugging, or showing users object information. When a class object is used to create a string using the built-in functions print() and str(), the __str__() function is automatically used. You can alter how objects of a class are represented in strings by defining the __str__() method."
   ]
  },
  {
   "cell_type": "code",
   "execution_count": 8,
   "id": "4ca84df5",
   "metadata": {},
   "outputs": [
    {
     "name": "stdout",
     "output_type": "stream",
     "text": [
      "My name is Zubair and I work in Darhorticare.\n"
     ]
    }
   ],
   "source": [
    "class GFG:\n",
    "    def __init__(self, name, company):\n",
    "        self.name = name\n",
    "        self.company = company\n",
    " \n",
    "    def __str__(self):\n",
    "        return f\"My name is {self.name} and I work in {self.company}.\"\n",
    " \n",
    " \n",
    "my_obj = GFG(\"Zubair\", \"Darhorticare\")\n",
    "print(my_obj)"
   ]
  },
  {
   "cell_type": "raw",
   "id": "a40a2cba",
   "metadata": {},
   "source": [
    "Explanation:\n",
    "\n",
    "In this example, We are creating a class named GFG.In the class, we are creating two instance variables name and company. In the __str__() method we are returning the name instance variable and company instance variable. Finally, we are creating the object of GFG class and we are calling the __str__() method."
   ]
  },
  {
   "cell_type": "raw",
   "id": "8ffaae15",
   "metadata": {},
   "source": [
    "Class and Instance Variables\n",
    "Instance variables are variables whose value is assigned inside a constructor or method with self whereas class variables are variables whose value is assigned in the class."
   ]
  },
  {
   "cell_type": "code",
   "execution_count": 9,
   "id": "0217bc5c",
   "metadata": {},
   "outputs": [
    {
     "name": "stdout",
     "output_type": "stream",
     "text": [
      "Rodger details:\n",
      "Rodger is a dog\n",
      "Breed:  Pug\n",
      "Color:  brown\n",
      "\n",
      "Buzo details:\n",
      "Buzo is a dog\n",
      "Breed:  Bulldog\n",
      "Color:  black\n",
      "\n",
      "Accessing class variable using class name\n",
      "dog\n"
     ]
    }
   ],
   "source": [
    "# Python3 program to show that the variables with a value\n",
    "# assigned in the class declaration, are class variables and\n",
    "# variables inside methods and constructors are instance\n",
    "# variables.\n",
    " \n",
    "# Class for Dog\n",
    " \n",
    " \n",
    "class Dog:\n",
    " \n",
    "    # Class Variable\n",
    "    animal = 'dog'\n",
    " \n",
    "    # The init method or constructor\n",
    "    def __init__(self, breed, color):\n",
    " \n",
    "        # Instance Variable\n",
    "        self.breed = breed\n",
    "        self.color = color\n",
    " \n",
    " \n",
    "# Objects of Dog class\n",
    "Rodger = Dog(\"Pug\", \"brown\")\n",
    "Buzo = Dog(\"Bulldog\", \"black\")\n",
    " \n",
    "print('Rodger details:')\n",
    "print('Rodger is a', Rodger.animal)\n",
    "print('Breed: ', Rodger.breed)\n",
    "print('Color: ', Rodger.color)\n",
    " \n",
    "print('\\nBuzo details:')\n",
    "print('Buzo is a', Buzo.animal)\n",
    "print('Breed: ', Buzo.breed)\n",
    "print('Color: ', Buzo.color)\n",
    " \n",
    "# Class variables can be accessed using class\n",
    "# name also\n",
    "print(\"\\nAccessing class variable using class name\")\n",
    "print(Dog.animal)"
   ]
  },
  {
   "cell_type": "raw",
   "id": "b00103f0",
   "metadata": {},
   "source": [
    "Explanation:\n",
    "\n",
    "A class named Dog is defined with a class variable animal set to the string “dog”. Class variables are shared by all objects of a class and can be accessed using the class name. Dog class has two instance variables breed and color. Later we are creating two objects of the Dog class and we are printing the value of both objects with a class variable named animal."
   ]
  },
  {
   "cell_type": "code",
   "execution_count": 10,
   "id": "f1b83d00",
   "metadata": {},
   "outputs": [
    {
     "name": "stdout",
     "output_type": "stream",
     "text": [
      "brown\n"
     ]
    }
   ],
   "source": [
    "# Python3 program to show that we can create\n",
    "# instance variables inside methods\n",
    " \n",
    "# Class for Dog\n",
    " \n",
    " \n",
    "class Dog:\n",
    " \n",
    "    # Class Variable\n",
    "    animal = 'dog'\n",
    " \n",
    "    # The init method or constructor\n",
    "    def __init__(self, breed):\n",
    " \n",
    "        # Instance Variable\n",
    "        self.breed = breed\n",
    " \n",
    "    # Adds an instance variable\n",
    "    def setColor(self, color):\n",
    "        self.color = color\n",
    " \n",
    "    # Retrieves instance variable\n",
    "    def getColor(self):\n",
    "        return self.color\n",
    " \n",
    " \n",
    "# Driver Code\n",
    "Rodger = Dog(\"pug\")\n",
    "Rodger.setColor(\"brown\")\n",
    "print(Rodger.getColor())"
   ]
  },
  {
   "cell_type": "raw",
   "id": "97044780",
   "metadata": {},
   "source": [
    "Explanation:\n",
    "\n",
    "In this example, We have defined a class named Dog and we have created a class variable animal. We have created an instance variable breed in the constructor. The class Dog consists of two methods setColor and getColor, they are used for creating and initializing an instance variable and retrieving the value of the instance variable. We have made an object of the Dog class and we have set the instance variable value to brown and we are printing the value in the terminal."
   ]
  }
 ],
 "metadata": {
  "kernelspec": {
   "display_name": "Python 3 (ipykernel)",
   "language": "python",
   "name": "python3"
  },
  "language_info": {
   "codemirror_mode": {
    "name": "ipython",
    "version": 3
   },
   "file_extension": ".py",
   "mimetype": "text/x-python",
   "name": "python",
   "nbconvert_exporter": "python",
   "pygments_lexer": "ipython3",
   "version": "3.12.4"
  }
 },
 "nbformat": 4,
 "nbformat_minor": 5
}
