{
 "cells": [
  {
   "cell_type": "code",
   "execution_count": 1,
   "id": "a5deacc7",
   "metadata": {},
   "outputs": [
    {
     "name": "stdout",
     "output_type": "stream",
     "text": [
      "hello\n",
      "world\n"
     ]
    }
   ],
   "source": [
    "def zub():\n",
    "    print(\"hello\")\n",
    "    print(\"world\")\n",
    "zub()    "
   ]
  },
  {
   "cell_type": "code",
   "execution_count": 2,
   "id": "c9249862",
   "metadata": {},
   "outputs": [
    {
     "name": "stdout",
     "output_type": "stream",
     "text": [
      "13\n"
     ]
    }
   ],
   "source": [
    "def add(x,y):\n",
    "    c=x+y\n",
    "    print(c)\n",
    "add(5,8)"
   ]
  },
  {
   "cell_type": "code",
   "execution_count": 3,
   "id": "7c1e376b",
   "metadata": {},
   "outputs": [
    {
     "name": "stdout",
     "output_type": "stream",
     "text": [
      "13\n"
     ]
    }
   ],
   "source": [
    "def add(x,y):\n",
    "    c=x+y\n",
    "    return c\n",
    "result = add(5,8)\n",
    "print(result)"
   ]
  },
  {
   "cell_type": "code",
   "execution_count": 4,
   "id": "27965dd2",
   "metadata": {},
   "outputs": [
    {
     "name": "stdout",
     "output_type": "stream",
     "text": [
      "13 -3\n"
     ]
    }
   ],
   "source": [
    "def add_sub(x,y):\n",
    "    c=x+y\n",
    "    d=x-y\n",
    "    return c,d\n",
    "result1,result2 = add_sub(5,8)\n",
    "print(result1,result2 )"
   ]
  },
  {
   "cell_type": "code",
   "execution_count": 5,
   "id": "6327bb3d",
   "metadata": {},
   "outputs": [
    {
     "name": "stdout",
     "output_type": "stream",
     "text": [
      "10\n"
     ]
    }
   ],
   "source": [
    "def update(x):\n",
    "    x=10\n",
    "    print(x)\n",
    "update(8)"
   ]
  },
  {
   "cell_type": "code",
   "execution_count": 6,
   "id": "416ff2d0",
   "metadata": {},
   "outputs": [
    {
     "name": "stdout",
     "output_type": "stream",
     "text": [
      "10\n"
     ]
    }
   ],
   "source": [
    "def update(x):\n",
    "    x=10\n",
    "    print(x)\n",
    "\n",
    "a=11\n",
    "update(a)\n"
   ]
  },
  {
   "cell_type": "code",
   "execution_count": 7,
   "id": "da102406",
   "metadata": {},
   "outputs": [
    {
     "name": "stdout",
     "output_type": "stream",
     "text": [
      "x is  10\n",
      "a is  15\n"
     ]
    }
   ],
   "source": [
    "def update(x):\n",
    "    x=10\n",
    "    print(\"x is \",x) # here we are printing the value of x\n",
    "a=15\n",
    "update(a)\n",
    "print(\"a is \",a)# here we are printing the value of a itz is affecting the value of x  \n",
    "#when i say i am passing the value of a, this meams i am not passing a but i am passing 10(that means we are passing a vlue not a address)"
   ]
  },
  {
   "cell_type": "code",
   "execution_count": null,
   "id": "e6c210e4",
   "metadata": {},
   "outputs": [],
   "source": []
  },
  {
   "cell_type": "code",
   "execution_count": null,
   "id": "38f3750f",
   "metadata": {},
   "outputs": [],
   "source": []
  },
  {
   "cell_type": "code",
   "execution_count": null,
   "id": "17471a43",
   "metadata": {},
   "outputs": [],
   "source": []
  },
  {
   "cell_type": "code",
   "execution_count": null,
   "id": "2d7dc6fb",
   "metadata": {},
   "outputs": [],
   "source": []
  },
  {
   "cell_type": "code",
   "execution_count": null,
   "id": "c32d61ec",
   "metadata": {},
   "outputs": [],
   "source": []
  },
  {
   "cell_type": "code",
   "execution_count": null,
   "id": "48d4f74b",
   "metadata": {},
   "outputs": [],
   "source": []
  },
  {
   "cell_type": "code",
   "execution_count": 8,
   "id": "d4045d8d",
   "metadata": {},
   "outputs": [
    {
     "name": "stdout",
     "output_type": "stream",
     "text": [
      "1638769257200\n",
      "x is  10\n",
      "1638769257040\n",
      "1638769257200\n",
      "a is  15\n"
     ]
    }
   ],
   "source": [
    "def update(x):\n",
    "    print(id(x))\n",
    "    x=10\n",
    "    print(\"x is \",x) # here we are printing the value of x\n",
    "    print(id(x))\n",
    "a=15\n",
    "update(a)\n",
    "print(id(a))\n",
    "print(\"a is \",a)"
   ]
  },
  {
   "cell_type": "raw",
   "id": "4f9299b8",
   "metadata": {},
   "source": [
    "types of arguments in functions\n",
    "these are:\n",
    "1. Position\n",
    "2. Keyword\n",
    "3. Default\n",
    "4. Variable Length"
   ]
  },
  {
   "cell_type": "code",
   "execution_count": 9,
   "id": "e3858934",
   "metadata": {},
   "outputs": [
    {
     "name": "stdout",
     "output_type": "stream",
     "text": [
      "zubair\n",
      "27\n"
     ]
    }
   ],
   "source": [
    "def parent(name,age):\n",
    "    print(name)\n",
    "    print(age)\n",
    "parent(\"zubair\",27)\n"
   ]
  },
  {
   "cell_type": "code",
   "execution_count": 10,
   "id": "696350fe",
   "metadata": {},
   "outputs": [
    {
     "name": "stdout",
     "output_type": "stream",
     "text": [
      "27\n",
      "zubair\n"
     ]
    }
   ],
   "source": [
    "def parent(name,age):\n",
    "    print(name)\n",
    "    print(age)\n",
    "parent(27,\"zubair\")"
   ]
  },
  {
   "cell_type": "code",
   "execution_count": 11,
   "id": "3466695c",
   "metadata": {},
   "outputs": [
    {
     "name": "stdout",
     "output_type": "stream",
     "text": [
      "zubair\n",
      "27\n"
     ]
    }
   ],
   "source": [
    "def parent(name,age):\n",
    "    print(name)\n",
    "    print(age)\n",
    "parent(age=27,name=\"zubair\")#here we are using a keywords this is call keyword arguments"
   ]
  },
  {
   "cell_type": "code",
   "execution_count": 12,
   "id": "883da7a4",
   "metadata": {},
   "outputs": [
    {
     "ename": "TypeError",
     "evalue": "parent() missing 1 required positional argument: 'age'",
     "output_type": "error",
     "traceback": [
      "\u001b[1;31m---------------------------------------------------------------------------\u001b[0m",
      "\u001b[1;31mTypeError\u001b[0m                                 Traceback (most recent call last)",
      "Input \u001b[1;32mIn [12]\u001b[0m, in \u001b[0;36m<cell line: 5>\u001b[1;34m()\u001b[0m\n\u001b[0;32m      3\u001b[0m     \u001b[38;5;28mprint\u001b[39m(name)\n\u001b[0;32m      4\u001b[0m     \u001b[38;5;28mprint\u001b[39m(age)\n\u001b[1;32m----> 5\u001b[0m \u001b[43mparent\u001b[49m\u001b[43m(\u001b[49m\u001b[38;5;124;43m\"\u001b[39;49m\u001b[38;5;124;43mzubair\u001b[39;49m\u001b[38;5;124;43m\"\u001b[39;49m\u001b[43m)\u001b[49m\n",
      "\u001b[1;31mTypeError\u001b[0m: parent() missing 1 required positional argument: 'age'"
     ]
    }
   ],
   "source": [
    "#Default parameter\n",
    "def parent(name,age):\n",
    "    print(name)\n",
    "    print(age)\n",
    "parent(\"zubair\")"
   ]
  },
  {
   "cell_type": "code",
   "execution_count": null,
   "id": "630d846c",
   "metadata": {},
   "outputs": [],
   "source": [
    "def parent(name,age=27):\n",
    "    print(id(age))\n",
    "    print(name)\n",
    "    print(age)\n",
    "parent(\"zubair\",24)"
   ]
  },
  {
   "cell_type": "code",
   "execution_count": null,
   "id": "368c920d",
   "metadata": {},
   "outputs": [],
   "source": [
    "#variable length parameter\n",
    "def sum(a,b):\n",
    "    c=a+b\n",
    "    print(c)\n",
    "sum(12,23)"
   ]
  },
  {
   "cell_type": "code",
   "execution_count": 5,
   "id": "39f566b2",
   "metadata": {},
   "outputs": [
    {
     "name": "stdout",
     "output_type": "stream",
     "text": [
      "98\n",
      "(12, 23, 7, 65)\n"
     ]
    },
    {
     "ename": "TypeError",
     "evalue": "unsupported operand type(s) for +: 'int' and 'tuple'",
     "output_type": "error",
     "traceback": [
      "\u001b[1;31m---------------------------------------------------------------------------\u001b[0m",
      "\u001b[1;31mTypeError\u001b[0m                                 Traceback (most recent call last)",
      "Input \u001b[1;32mIn [5]\u001b[0m, in \u001b[0;36m<cell line: 6>\u001b[1;34m()\u001b[0m\n\u001b[0;32m      4\u001b[0m     c\u001b[38;5;241m=\u001b[39ma\u001b[38;5;241m+\u001b[39mb\n\u001b[0;32m      5\u001b[0m     \u001b[38;5;28mprint\u001b[39m(c)\n\u001b[1;32m----> 6\u001b[0m \u001b[38;5;28;43msum\u001b[39;49m\u001b[43m(\u001b[49m\u001b[38;5;241;43m12\u001b[39;49m\u001b[43m,\u001b[49m\u001b[38;5;241;43m23\u001b[39;49m\u001b[43m,\u001b[49m\u001b[38;5;241;43m7\u001b[39;49m\u001b[43m,\u001b[49m\u001b[38;5;241;43m65\u001b[39;49m\u001b[43m)\u001b[49m\n",
      "Input \u001b[1;32mIn [5]\u001b[0m, in \u001b[0;36msum\u001b[1;34m(a, *b)\u001b[0m\n\u001b[0;32m      2\u001b[0m \u001b[38;5;28mprint\u001b[39m(\u001b[38;5;28mstr\u001b[39m(a))\n\u001b[0;32m      3\u001b[0m \u001b[38;5;28mprint\u001b[39m(b)\n\u001b[1;32m----> 4\u001b[0m c\u001b[38;5;241m=\u001b[39m\u001b[43ma\u001b[49m\u001b[38;5;241;43m+\u001b[39;49m\u001b[43mb\u001b[49m\n\u001b[0;32m      5\u001b[0m \u001b[38;5;28mprint\u001b[39m(c)\n",
      "\u001b[1;31mTypeError\u001b[0m: unsupported operand type(s) for +: 'int' and 'tuple'"
     ]
    }
   ],
   "source": [
    "def sum(*b,a=98):\n",
    "    print(str(a))\n",
    "    print(b)\n",
    "    c=a+b\n",
    "    print(c)\n",
    "sum(12,23,7,65)"
   ]
  },
  {
   "cell_type": "code",
   "execution_count": null,
   "id": "63f40e63",
   "metadata": {},
   "outputs": [],
   "source": [
    "def sum(a,b):\n",
    "    c=a+b\n",
    "    print(c)\n",
    "sum(12,23,7,65)"
   ]
  },
  {
   "cell_type": "code",
   "execution_count": 13,
   "id": "f711e62d",
   "metadata": {},
   "outputs": [
    {
     "name": "stdout",
     "output_type": "stream",
     "text": [
      "15\n"
     ]
    }
   ],
   "source": [
    "def sum_no(*b):\n",
    "    total = sum(b)\n",
    "    return total\n",
    "\n",
    "result=sum_no(1, 2, 3, 4, 5)\n",
    "print(result)\n"
   ]
  },
  {
   "cell_type": "code",
   "execution_count": null,
   "id": "ece0d65f",
   "metadata": {},
   "outputs": [],
   "source": []
  },
  {
   "cell_type": "code",
   "execution_count": null,
   "id": "b18b3cf0",
   "metadata": {},
   "outputs": [],
   "source": []
  }
 ],
 "metadata": {
  "kernelspec": {
   "display_name": "Python 3 (ipykernel)",
   "language": "python",
   "name": "python3"
  },
  "language_info": {
   "codemirror_mode": {
    "name": "ipython",
    "version": 3
   },
   "file_extension": ".py",
   "mimetype": "text/x-python",
   "name": "python",
   "nbconvert_exporter": "python",
   "pygments_lexer": "ipython3",
   "version": "3.9.12"
  }
 },
 "nbformat": 4,
 "nbformat_minor": 5
}
