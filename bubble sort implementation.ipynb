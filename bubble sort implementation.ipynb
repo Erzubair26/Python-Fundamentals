{
 "cells": [
  {
   "cell_type": "code",
   "execution_count": 1,
   "id": "5431f0fd-6713-42e9-99b9-aa1c4d47ee1a",
   "metadata": {},
   "outputs": [],
   "source": [
    "#bubble sort"
   ]
  },
  {
   "cell_type": "code",
   "execution_count": 9,
   "id": "1cf9e636-295f-422b-86f7-cc0e451c9ae1",
   "metadata": {},
   "outputs": [
    {
     "data": {
      "text/plain": [
       "[2, 5, 7, 8, 9, 12, 16]"
      ]
     },
     "execution_count": 9,
     "metadata": {},
     "output_type": "execute_result"
    }
   ],
   "source": [
    "def bubble_sort(arr):\n",
    "    n=len(arr)\n",
    "    for k in range(0,n-1):\n",
    "        for ptr in range(n-1-k):\n",
    "            if arr[ptr]> arr[ptr+1]:\n",
    "                temp=arr[ptr]\n",
    "                arr[ptr]=arr[ptr+1]\n",
    "                arr[ptr+1]=temp\n",
    "    return arr\n",
    "x=[5,2,9,16,8,7,12]\n",
    "bubble_sort(x)"
   ]
  },
  {
   "cell_type": "code",
   "execution_count": 17,
   "id": "af496780-d7e8-43b1-8848-594a1eb30e96",
   "metadata": {},
   "outputs": [
    {
     "name": "stdout",
     "output_type": "stream",
     "text": [
      "before bubble sort: 5\n",
      "2\n",
      "9\n",
      "16\n",
      "8\n",
      "7\n",
      "12\n",
      "After bubble sort: 2\n",
      "5\n",
      "9\n",
      "8\n",
      "7\n",
      "12\n",
      "16\n"
     ]
    }
   ],
   "source": [
    "arr=[5,2,9,16,8,7,12]\n",
    "print(\"before bubble sort: \", end=\"\")\n",
    "for i in arr:\n",
    "    print(i)\n",
    "for i in range(len(arr)):\n",
    "    for j in range(i+1,len(arr)):\n",
    "        if arr[i]> arr[i+1]:\n",
    "                temp=arr[i]\n",
    "                arr[i]=arr[i+1]\n",
    "                arr[i+1]=temp\n",
    "print(\"After bubble sort: \", end=\"\")\n",
    "for i in arr:\n",
    "    print(i)"
   ]
  },
  {
   "cell_type": "code",
   "execution_count": null,
   "id": "9dc2ae08-3614-46d2-aad4-8cfb50f54730",
   "metadata": {},
   "outputs": [],
   "source": []
  }
 ],
 "metadata": {
  "kernelspec": {
   "display_name": "Python 3 (ipykernel)",
   "language": "python",
   "name": "python3"
  },
  "language_info": {
   "codemirror_mode": {
    "name": "ipython",
    "version": 3
   },
   "file_extension": ".py",
   "mimetype": "text/x-python",
   "name": "python",
   "nbconvert_exporter": "python",
   "pygments_lexer": "ipython3",
   "version": "3.12.4"
  }
 },
 "nbformat": 4,
 "nbformat_minor": 5
}
