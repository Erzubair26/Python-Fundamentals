{
 "cells": [
  {
   "cell_type": "code",
   "execution_count": 1,
   "id": "d4a55af1",
   "metadata": {},
   "outputs": [
    {
     "name": "stdout",
     "output_type": "stream",
     "text": [
      "welcome to all \n",
      "welcome to all keep enjoying\n"
     ]
    }
   ],
   "source": [
    "class A:\n",
    "    def __init__(self):\n",
    "        print(\"welcome to all \")\n",
    "    def feature1(self):\n",
    "        print(\"this feature1 is working fine \")\n",
    "    def feature2(self):\n",
    "        print(\"this feature2 is working fine \")\n",
    "class B(A):\n",
    "    def __init__(self):\n",
    "        super(). __init__ ()\n",
    "        print(\"welcome to all keep enjoying\")\n",
    "    def feature3(self):\n",
    "        print(\"this feature3 is working fine \")\n",
    "    def feature4(self):\n",
    "        print(\"this feature4 is working fine \")\n",
    "a=B()\n",
    "\n"
   ]
  },
  {
   "cell_type": "code",
   "execution_count": 2,
   "id": "27923dfe",
   "metadata": {},
   "outputs": [
    {
     "name": "stdout",
     "output_type": "stream",
     "text": [
      "welcome to all \n",
      "welcome to all keep enjoying heyhey\n",
      "this feature1 is working fine \n",
      "this feature2 is working fine \n"
     ]
    }
   ],
   "source": [
    "class A:\n",
    "    def __init__(self):\n",
    "        print(\"welcome to all \")\n",
    "    def feature1(self):\n",
    "        print(\"this feature1 is working fine \")\n",
    "    def feature2(self):\n",
    "        print(\"this feature2 is working fine \")\n",
    "class B:\n",
    "    def __init__(self):\n",
    "        print(\"welcome to all keep enjoying\")\n",
    "    def feature3(self):\n",
    "        print(\"this feature3 is working fine \")\n",
    "    def feature4(self):\n",
    "        print(\"this feature4 is working fine \")\n",
    "class C(A):\n",
    "    def __init__(self):\n",
    "        super(). __init__ ()\n",
    "        print(\"welcome to all keep enjoying heyhey\")\n",
    "        \n",
    "    def feat(self):\n",
    "        super().feature2()\n",
    "a=C()\n",
    "a.feature1()\n",
    "a.feat()\n",
    " \n",
    "    \n",
    " "
   ]
  },
  {
   "cell_type": "code",
   "execution_count": 8,
   "id": "7ff52c21",
   "metadata": {},
   "outputs": [],
   "source": [
    "class A:\n",
    "    def qwerty(self):\n",
    "        print(\"hdbbfjsdfn\")\n",
    "class B:\n",
    "    def qwerty1(self):\n",
    "        print(\"hdbbfjsdjfjdfdnffn\")\n",
    "class C(A,B):\n",
    "    def qwerty3(self):\n",
    "        super. __init__()\n",
    "        print(\"eyuio;.,mn\")\n",
    "Cd=C()\n"
   ]
  },
  {
   "cell_type": "code",
   "execution_count": null,
   "id": "0e33fcf8",
   "metadata": {},
   "outputs": [],
   "source": []
  }
 ],
 "metadata": {
  "kernelspec": {
   "display_name": "Python 3 (ipykernel)",
   "language": "python",
   "name": "python3"
  },
  "language_info": {
   "codemirror_mode": {
    "name": "ipython",
    "version": 3
   },
   "file_extension": ".py",
   "mimetype": "text/x-python",
   "name": "python",
   "nbconvert_exporter": "python",
   "pygments_lexer": "ipython3",
   "version": "3.9.12"
  }
 },
 "nbformat": 4,
 "nbformat_minor": 5
}
