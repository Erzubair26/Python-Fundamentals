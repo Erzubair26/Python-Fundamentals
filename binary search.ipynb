{
 "cells": [
  {
   "cell_type": "code",
   "execution_count": 3,
   "id": "89ac4713-0114-4c42-bb55-ac8f37407657",
   "metadata": {},
   "outputs": [
    {
     "name": "stdout",
     "output_type": "stream",
     "text": [
      "element not found\n"
     ]
    }
   ],
   "source": [
    "l=[2,6,3,9,0,1,4]\n",
    "target=20\n",
    "i=0\n",
    "while(i<len(l)):\n",
    "    if l[i]==target:\n",
    "        print(f\"element found {l[i]} at index{i}\")\n",
    "        break\n",
    "    else:\n",
    "        i=i+1\n",
    "else:\n",
    "    print(\"element not found\")"
   ]
  },
  {
   "cell_type": "code",
   "execution_count": 15,
   "id": "af135e45-6ec7-4585-b56d-23edf4f0730e",
   "metadata": {},
   "outputs": [
    {
     "name": "stdout",
     "output_type": "stream",
     "text": [
      "element 2 found at index 2\n"
     ]
    }
   ],
   "source": [
    "#Binary Search:\n",
    "l=[2,6,3,9,0,1,4]\n",
    "l.sort()\n",
    "target=2\n",
    "lb=0\n",
    "ub=len(l)-1\n",
    "while(lb<=ub):\n",
    "    mid=(lb+ub)//2\n",
    "    if l[mid]==target:\n",
    "        print(f\"element {l[mid]} found at index {mid}\")\n",
    "        break\n",
    "    elif l[mid]<target:\n",
    "        lb=mid+1\n",
    "    else:\n",
    "        ub=mid-1\n",
    "else:\n",
    "    print(\"not found\")"
   ]
  },
  {
   "cell_type": "code",
   "execution_count": null,
   "id": "9bd5edab-c1b7-4b23-b6fe-8b061c47c037",
   "metadata": {},
   "outputs": [],
   "source": []
  }
 ],
 "metadata": {
  "kernelspec": {
   "display_name": "Python 3 (ipykernel)",
   "language": "python",
   "name": "python3"
  },
  "language_info": {
   "codemirror_mode": {
    "name": "ipython",
    "version": 3
   },
   "file_extension": ".py",
   "mimetype": "text/x-python",
   "name": "python",
   "nbconvert_exporter": "python",
   "pygments_lexer": "ipython3",
   "version": "3.12.4"
  }
 },
 "nbformat": 4,
 "nbformat_minor": 5
}
