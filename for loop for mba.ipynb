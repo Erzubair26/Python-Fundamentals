{
 "cells": [
  {
   "cell_type": "raw",
   "id": "31ce2318",
   "metadata": {},
   "source": [
    "A for loop is used for iterating over a sequence (that is either a list, a tuple, a dictionary, a set, or a string).\n",
    "With the for loop we can execute a set of statements, once for each item in a list, tuple, set etc."
   ]
  },
  {
   "cell_type": "code",
   "execution_count": 1,
   "id": "0b1223f1",
   "metadata": {},
   "outputs": [
    {
     "name": "stdout",
     "output_type": "stream",
     "text": [
      "1\n",
      "2\n",
      "3\n",
      "4\n",
      "5\n",
      "abc\n",
      "bdm\n",
      "True\n"
     ]
    }
   ],
   "source": [
    "l=[1,2,3,4,5,\"abc\",\"bdm\",True]\n",
    "for x in l:\n",
    "    print(x)"
   ]
  },
  {
   "cell_type": "code",
   "execution_count": 6,
   "id": "c947505b",
   "metadata": {},
   "outputs": [
    {
     "name": "stdout",
     "output_type": "stream",
     "text": [
      "1\n",
      "2\n",
      "3\n",
      "4\n"
     ]
    }
   ],
   "source": [
    "l=[1,2,3,4,5,\"abc\",\"bdm\",True]\n",
    "for x in l:\n",
    "    if x==5:\n",
    "        break\n",
    "    \n",
    "    print(x)"
   ]
  },
  {
   "cell_type": "code",
   "execution_count": 8,
   "id": "964065f0",
   "metadata": {},
   "outputs": [
    {
     "name": "stdout",
     "output_type": "stream",
     "text": [
      "b\n",
      "a\n",
      "n\n",
      "a\n",
      "n\n",
      "a\n"
     ]
    }
   ],
   "source": [
    "l2=\"banana\"\n",
    "for x in l2:\n",
    "    print(x)"
   ]
  },
  {
   "cell_type": "code",
   "execution_count": 13,
   "id": "69ffd132",
   "metadata": {},
   "outputs": [
    {
     "name": "stdout",
     "output_type": "stream",
     "text": [
      "1\n",
      "2\n",
      "3\n",
      "4\n"
     ]
    }
   ],
   "source": [
    "\n",
    "for x in l:\n",
    "    print(x)\n",
    "    if x==4:\n",
    "        break"
   ]
  },
  {
   "cell_type": "code",
   "execution_count": 14,
   "id": "ef81350c",
   "metadata": {},
   "outputs": [
    {
     "name": "stdout",
     "output_type": "stream",
     "text": [
      "1\n",
      "2\n",
      "3\n",
      "4\n",
      "5\n",
      "abc\n",
      "bdm\n",
      "True\n"
     ]
    }
   ],
   "source": [
    "for x in l:\n",
    "    print(x)\n",
    "    if x==4:\n",
    "        continue"
   ]
  },
  {
   "cell_type": "code",
   "execution_count": 15,
   "id": "3eb567cc",
   "metadata": {},
   "outputs": [
    {
     "name": "stdout",
     "output_type": "stream",
     "text": [
      "1\n",
      "2\n",
      "3\n",
      "5\n",
      "abc\n",
      "bdm\n",
      "True\n"
     ]
    }
   ],
   "source": [
    "for x in l:\n",
    "    \n",
    "    if x==4:\n",
    "        continue\n",
    "    print(x)"
   ]
  },
  {
   "cell_type": "raw",
   "id": "f73d4d96",
   "metadata": {},
   "source": [
    "The range() Function\n",
    "To loop through a set of code a specified number of times, we can use the range() function,\n",
    "The range() function returns a sequence of numbers, starting from 0 by default, and increments by 1 (by default), and ends at a specified number."
   ]
  },
  {
   "cell_type": "code",
   "execution_count": 25,
   "id": "c4f9d013",
   "metadata": {},
   "outputs": [
    {
     "name": "stdout",
     "output_type": "stream",
     "text": [
      "7\n",
      "14\n",
      "21\n",
      "28\n",
      "35\n",
      "42\n",
      "49\n",
      "56\n",
      "63\n",
      "70\n"
     ]
    }
   ],
   "source": [
    "\n",
    "for x in range(7,71,7):\n",
    "    print(x)\n",
    "  "
   ]
  },
  {
   "cell_type": "code",
   "execution_count": 28,
   "id": "9874ba0c",
   "metadata": {},
   "outputs": [
    {
     "name": "stdout",
     "output_type": "stream",
     "text": [
      "7\n",
      "14\n",
      "21\n",
      "28\n",
      "35\n",
      "42\n",
      "49\n",
      "56\n",
      "63\n",
      "70\n",
      "successfully culculated\n"
     ]
    }
   ],
   "source": [
    "for x in range(7,71,7):\n",
    "    print(x)\n",
    "else:\n",
    "    print(\"successfully culculated\")"
   ]
  },
  {
   "cell_type": "code",
   "execution_count": 30,
   "id": "285eb2cb",
   "metadata": {},
   "outputs": [
    {
     "name": "stdout",
     "output_type": "stream",
     "text": [
      "7\n",
      "14\n",
      "21\n",
      "28\n",
      "35\n",
      "42\n"
     ]
    }
   ],
   "source": [
    "for x in range(7,71,7):\n",
    "    if x==42:\n",
    "        break\n",
    "    print(x)\n",
    "    \n",
    "else:\n",
    "    print(\"successfully culculated\")"
   ]
  },
  {
   "cell_type": "code",
   "execution_count": 31,
   "id": "54ee9e78",
   "metadata": {},
   "outputs": [
    {
     "name": "stdout",
     "output_type": "stream",
     "text": [
      "7\n",
      "14\n",
      "21\n",
      "28\n",
      "35\n",
      "42\n"
     ]
    }
   ],
   "source": [
    "for x in range(7,71,7):\n",
    "    \n",
    "    print(x)\n",
    "    if x==42:\n",
    "        break\n",
    "    \n",
    "else:\n",
    "    print(\"successfully culculated\")"
   ]
  },
  {
   "cell_type": "code",
   "execution_count": 34,
   "id": "0f73db47",
   "metadata": {},
   "outputs": [
    {
     "name": "stdout",
     "output_type": "stream",
     "text": [
      "6 2\n",
      "6 4\n",
      "6 6\n",
      "6 8\n",
      "6 10\n",
      "6 rey\n",
      "6 tyr\n",
      "5 2\n",
      "5 4\n",
      "5 6\n",
      "5 8\n",
      "5 10\n",
      "5 rey\n",
      "5 tyr\n",
      "4 2\n",
      "4 4\n",
      "4 6\n",
      "4 8\n",
      "4 10\n",
      "4 rey\n",
      "4 tyr\n",
      "3 2\n",
      "3 4\n",
      "3 6\n",
      "3 8\n",
      "3 10\n",
      "3 rey\n",
      "3 tyr\n",
      "2 2\n",
      "2 4\n",
      "2 6\n",
      "2 8\n",
      "2 10\n",
      "2 rey\n",
      "2 tyr\n",
      "1 2\n",
      "1 4\n",
      "1 6\n",
      "1 8\n",
      "1 10\n",
      "1 rey\n",
      "1 tyr\n",
      "asd 2\n",
      "asd 4\n",
      "asd 6\n",
      "asd 8\n",
      "asd 10\n",
      "asd rey\n",
      "asd tyr\n",
      "hgsd 2\n",
      "hgsd 4\n",
      "hgsd 6\n",
      "hgsd 8\n",
      "hgsd 10\n",
      "hgsd rey\n",
      "hgsd tyr\n",
      "False 2\n",
      "False 4\n",
      "False 6\n",
      "False 8\n",
      "False 10\n",
      "False rey\n",
      "False tyr\n"
     ]
    }
   ],
   "source": [
    "l3=[6,5,4,3,2,1,\"asd\",\"hgsd\",False]\n",
    "l4=[2,4,6,8,10,\"rey\",\"tyr\"]\n",
    "for x in l3:\n",
    "    for y in l4:\n",
    "        print(x, y)"
   ]
  },
  {
   "cell_type": "code",
   "execution_count": 37,
   "id": "16570d7f",
   "metadata": {},
   "outputs": [
    {
     "name": "stdout",
     "output_type": "stream",
     "text": [
      "apple red\n",
      "banana red\n",
      "cherry red\n",
      "apple big\n",
      "banana big\n",
      "cherry big\n",
      "apple tasty\n",
      "banana tasty\n",
      "cherry tasty\n"
     ]
    }
   ],
   "source": [
    "adj = [\"red\", \"big\", \"tasty\"]\n",
    "fruits = [\"apple\", \"banana\", \"cherry\"]\n",
    "\n",
    "for x in adj:\n",
    "    for y in fruits:\n",
    "        print(y, x)"
   ]
  },
  {
   "cell_type": "raw",
   "id": "e457057d",
   "metadata": {},
   "source": [
    "The pass Statement\n",
    "for loops cannot be empty, but if you for some reason have a for loop with no content, put in the pass statement to avoid getting an error."
   ]
  },
  {
   "cell_type": "code",
   "execution_count": 38,
   "id": "f853f7f0",
   "metadata": {},
   "outputs": [],
   "source": [
    "for x in [0, 1, 2]:\n",
    "  pass"
   ]
  },
  {
   "cell_type": "code",
   "execution_count": null,
   "id": "267b1e33",
   "metadata": {},
   "outputs": [],
   "source": []
  }
 ],
 "metadata": {
  "kernelspec": {
   "display_name": "Python 3 (ipykernel)",
   "language": "python",
   "name": "python3"
  },
  "language_info": {
   "codemirror_mode": {
    "name": "ipython",
    "version": 3
   },
   "file_extension": ".py",
   "mimetype": "text/x-python",
   "name": "python",
   "nbconvert_exporter": "python",
   "pygments_lexer": "ipython3",
   "version": "3.9.12"
  }
 },
 "nbformat": 4,
 "nbformat_minor": 5
}
